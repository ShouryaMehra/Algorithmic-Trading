{
 "cells": [
  {
   "cell_type": "markdown",
   "metadata": {},
   "source": [
    "# Libraries use"
   ]
  },
  {
   "cell_type": "code",
   "execution_count": 1,
   "metadata": {},
   "outputs": [],
   "source": [
    "import pandas as pd\n",
    "import numpy as np\n",
    "import warnings\n",
    "warnings.filterwarnings(\"ignore\")\n",
    "from sklearn.model_selection import GridSearchCV , RandomizedSearchCV\n",
    "from sklearn.ensemble import GradientBoostingRegressor\n",
    "from sklearn.linear_model import LinearRegression\n",
    "import seaborn as sns\n",
    "import matplotlib.pyplot as plt\n",
    "from sklearn.model_selection import train_test_split\n",
    "from sklearn.metrics import mean_squared_error, make_scorer"
   ]
  },
  {
   "cell_type": "markdown",
   "metadata": {},
   "source": [
    "# Import dataset"
   ]
  },
  {
   "cell_type": "code",
   "execution_count": 2,
   "metadata": {},
   "outputs": [],
   "source": [
    "NASDAQ = pd.read_csv('C:/Users/Shourya/Desktop/dataset/ESCORTS dataset/dataset/NASDAQ.CSV')\n",
    "NIFTY_50 = pd.read_csv('C:/Users/Shourya/Desktop/dataset/ESCORTS dataset/dataset/NIFTY 50.CSV')\n",
    "Nikkei_225 = pd.read_csv('C:/Users/Shourya/Desktop/dataset/ESCORTS dataset/dataset/Nikkei 225.CSV')\n",
    "Hang_Seng = pd.read_csv('C:/Users/Shourya/Desktop/dataset/ESCORTS dataset/dataset/HANG SENG.CSV')\n",
    "es_train = pd.read_csv('C:/Users/Shourya/Desktop/dataset/ESCORTS dataset/dataset/ESCORTS.NS.CSV')\n",
    "INFY = pd.read_csv('C:/Users/Shourya/Desktop/dataset/ESCORTS dataset/dataset/INFY.CSV')\n",
    "ACN = pd.read_csv('C:/Users/Shourya/Desktop/dataset/ESCORTS dataset/dataset/ACN.csv')\n",
    "CTSH = pd.read_csv('C:/Users/Shourya/Desktop/dataset/ESCORTS dataset/dataset/CTSH.csv')\n",
    "ORCL = pd.read_csv('C:/Users/Shourya/Desktop/dataset/ESCORTS dataset/dataset/ORCL.csv')"
   ]
  },
  {
   "cell_type": "code",
   "execution_count": 3,
   "metadata": {},
   "outputs": [],
   "source": [
    "# d= np.arange(21,30)"
   ]
  },
  {
   "cell_type": "code",
   "execution_count": 4,
   "metadata": {},
   "outputs": [],
   "source": [
    "# from scipy import stats\n",
    "# # df = es_train.iloc[:,1:]\n",
    "# z_scores = stats.zscore(d)\n",
    "# z_scores"
   ]
  },
  {
   "cell_type": "code",
   "execution_count": 5,
   "metadata": {},
   "outputs": [],
   "source": [
    "# print(stats.zscore(d))"
   ]
  },
  {
   "cell_type": "markdown",
   "metadata": {},
   "source": [
    "# Preprocessing"
   ]
  },
  {
   "cell_type": "code",
   "execution_count": 6,
   "metadata": {},
   "outputs": [
    {
     "name": "stdout",
     "output_type": "stream",
     "text": [
      "NASDAQ Date        0\n",
      "Open        1\n",
      "High        0\n",
      "Low         0\n",
      "Close       0\n",
      "AdjClose    0\n",
      "Volume      0\n",
      "dtype: int64 \n",
      "\n",
      "\n",
      " NIFTY_50 Date         0\n",
      "Open        24\n",
      "High        23\n",
      "Low         23\n",
      "Close       23\n",
      "AdjClose    23\n",
      "Volume      23\n",
      "dtype: int64 \n",
      "\n",
      "\n",
      " es_train Date        0\n",
      "Open        8\n",
      "High        7\n",
      "Low         7\n",
      "Close       7\n",
      "AdjClose    7\n",
      "Volume      7\n",
      "dtype: int64 \n",
      "\n",
      "\n",
      " Nikkei_225 Date         0\n",
      "Open        21\n",
      "High        20\n",
      "Low         20\n",
      "Close       20\n",
      "AdjClose    20\n",
      "Volume      20\n",
      "dtype: int64 \n",
      "\n",
      "\n",
      " Hang_Seng Date         0\n",
      "Open        12\n",
      "High        11\n",
      "Low         11\n",
      "Close       11\n",
      "AdjClose    11\n",
      "Volume      11\n",
      "dtype: int64\n"
     ]
    }
   ],
   "source": [
    "print('NASDAQ',NASDAQ.isna().sum(),'\\n\\n\\n','NIFTY_50',NIFTY_50.isna().sum(),'\\n\\n\\n','es_train',es_train.isna().sum(),'\\n\\n\\n',\"Nikkei_225\",Nikkei_225.isna().sum(),\"\\n\\n\\n\",\"Hang_Seng\",Hang_Seng.isna().sum())"
   ]
  },
  {
   "cell_type": "code",
   "execution_count": 7,
   "metadata": {},
   "outputs": [
    {
     "data": {
      "text/plain": [
       "Date        0\n",
       "Open        1\n",
       "High        0\n",
       "Low         0\n",
       "Close       0\n",
       "AdjClose    0\n",
       "Volume      0\n",
       "dtype: int64"
      ]
     },
     "execution_count": 7,
     "metadata": {},
     "output_type": "execute_result"
    }
   ],
   "source": [
    "INFY.isna().sum()"
   ]
  },
  {
   "cell_type": "code",
   "execution_count": 8,
   "metadata": {},
   "outputs": [
    {
     "data": {
      "text/plain": [
       "Date        0\n",
       "Open        1\n",
       "AdjClose    0\n",
       "dtype: int64"
      ]
     },
     "execution_count": 8,
     "metadata": {},
     "output_type": "execute_result"
    }
   ],
   "source": [
    "ORCL.isna().sum()"
   ]
  },
  {
   "cell_type": "code",
   "execution_count": 9,
   "metadata": {},
   "outputs": [
    {
     "data": {
      "text/plain": [
       "Date        0\n",
       "Open        1\n",
       "High        0\n",
       "Low         0\n",
       "Close       0\n",
       "AdjClose    0\n",
       "Volume      0\n",
       "dtype: int64"
      ]
     },
     "execution_count": 9,
     "metadata": {},
     "output_type": "execute_result"
    }
   ],
   "source": [
    "ACN.isna().sum()"
   ]
  },
  {
   "cell_type": "code",
   "execution_count": 10,
   "metadata": {},
   "outputs": [
    {
     "data": {
      "text/plain": [
       "Date        0\n",
       "Open        1\n",
       "AdjClose    0\n",
       "dtype: int64"
      ]
     },
     "execution_count": 10,
     "metadata": {},
     "output_type": "execute_result"
    }
   ],
   "source": [
    "CTSH.isna().sum()"
   ]
  },
  {
   "cell_type": "code",
   "execution_count": 11,
   "metadata": {},
   "outputs": [
    {
     "data": {
      "text/html": [
       "<div>\n",
       "<style scoped>\n",
       "    .dataframe tbody tr th:only-of-type {\n",
       "        vertical-align: middle;\n",
       "    }\n",
       "\n",
       "    .dataframe tbody tr th {\n",
       "        vertical-align: top;\n",
       "    }\n",
       "\n",
       "    .dataframe thead th {\n",
       "        text-align: right;\n",
       "    }\n",
       "</style>\n",
       "<table border=\"1\" class=\"dataframe\">\n",
       "  <thead>\n",
       "    <tr style=\"text-align: right;\">\n",
       "      <th></th>\n",
       "      <th>Date</th>\n",
       "      <th>Open</th>\n",
       "      <th>High</th>\n",
       "      <th>Low</th>\n",
       "      <th>Close</th>\n",
       "      <th>AdjClose</th>\n",
       "      <th>Volume</th>\n",
       "    </tr>\n",
       "  </thead>\n",
       "  <tbody>\n",
       "    <tr>\n",
       "      <td>264</td>\n",
       "      <td>30-05-2011</td>\n",
       "      <td>NaN</td>\n",
       "      <td>5509.299805</td>\n",
       "      <td>5458.600098</td>\n",
       "      <td>5473.100098</td>\n",
       "      <td>5473.100098</td>\n",
       "      <td>0.0</td>\n",
       "    </tr>\n",
       "    <tr>\n",
       "      <td>383</td>\n",
       "      <td>23-11-2011</td>\n",
       "      <td>NaN</td>\n",
       "      <td>4779.500000</td>\n",
       "      <td>4640.950195</td>\n",
       "      <td>4706.450195</td>\n",
       "      <td>4706.450195</td>\n",
       "      <td>0.0</td>\n",
       "    </tr>\n",
       "    <tr>\n",
       "      <td>404</td>\n",
       "      <td>23-12-2011</td>\n",
       "      <td>NaN</td>\n",
       "      <td>4763.450195</td>\n",
       "      <td>4693.200195</td>\n",
       "      <td>4714.000000</td>\n",
       "      <td>4714.000000</td>\n",
       "      <td>0.0</td>\n",
       "    </tr>\n",
       "    <tr>\n",
       "      <td>409</td>\n",
       "      <td>30-12-2011</td>\n",
       "      <td>NaN</td>\n",
       "      <td>4690.450195</td>\n",
       "      <td>4608.899902</td>\n",
       "      <td>4624.299805</td>\n",
       "      <td>4624.299805</td>\n",
       "      <td>0.0</td>\n",
       "    </tr>\n",
       "    <tr>\n",
       "      <td>414</td>\n",
       "      <td>06-01-2012</td>\n",
       "      <td>NaN</td>\n",
       "      <td>4794.899902</td>\n",
       "      <td>4686.850098</td>\n",
       "      <td>4754.100098</td>\n",
       "      <td>4754.100098</td>\n",
       "      <td>0.0</td>\n",
       "    </tr>\n",
       "    <tr>\n",
       "      <td>453</td>\n",
       "      <td>02-03-2012</td>\n",
       "      <td>NaN</td>\n",
       "      <td>5392.549805</td>\n",
       "      <td>5315.049805</td>\n",
       "      <td>5359.350098</td>\n",
       "      <td>5359.350098</td>\n",
       "      <td>0.0</td>\n",
       "    </tr>\n",
       "    <tr>\n",
       "      <td>505</td>\n",
       "      <td>18-05-2012</td>\n",
       "      <td>NaN</td>\n",
       "      <td>4908.500000</td>\n",
       "      <td>4788.950195</td>\n",
       "      <td>4891.450195</td>\n",
       "      <td>4891.450195</td>\n",
       "      <td>0.0</td>\n",
       "    </tr>\n",
       "    <tr>\n",
       "      <td>574</td>\n",
       "      <td>27-08-2012</td>\n",
       "      <td>NaN</td>\n",
       "      <td>5399.149902</td>\n",
       "      <td>5346.649902</td>\n",
       "      <td>5350.250000</td>\n",
       "      <td>5350.250000</td>\n",
       "      <td>0.0</td>\n",
       "    </tr>\n",
       "    <tr>\n",
       "      <td>583</td>\n",
       "      <td>07-09-2012</td>\n",
       "      <td>NaN</td>\n",
       "      <td>5347.149902</td>\n",
       "      <td>5309.200195</td>\n",
       "      <td>5342.100098</td>\n",
       "      <td>5342.100098</td>\n",
       "      <td>0.0</td>\n",
       "    </tr>\n",
       "    <tr>\n",
       "      <td>625</td>\n",
       "      <td>09-11-2012</td>\n",
       "      <td>NaN</td>\n",
       "      <td>5751.700195</td>\n",
       "      <td>5677.750000</td>\n",
       "      <td>5686.250000</td>\n",
       "      <td>5686.250000</td>\n",
       "      <td>0.0</td>\n",
       "    </tr>\n",
       "    <tr>\n",
       "      <td>658</td>\n",
       "      <td>31-12-2012</td>\n",
       "      <td>NaN</td>\n",
       "      <td>5919.000000</td>\n",
       "      <td>5897.149902</td>\n",
       "      <td>5905.100098</td>\n",
       "      <td>5905.100098</td>\n",
       "      <td>0.0</td>\n",
       "    </tr>\n",
       "    <tr>\n",
       "      <td>906</td>\n",
       "      <td>31-12-2013</td>\n",
       "      <td>NaN</td>\n",
       "      <td>6317.299805</td>\n",
       "      <td>6287.299805</td>\n",
       "      <td>6304.000000</td>\n",
       "      <td>6304.000000</td>\n",
       "      <td>103400.0</td>\n",
       "    </tr>\n",
       "    <tr>\n",
       "      <td>962</td>\n",
       "      <td>21-03-2014</td>\n",
       "      <td>NaN</td>\n",
       "      <td>6522.899902</td>\n",
       "      <td>6485.700195</td>\n",
       "      <td>6493.200195</td>\n",
       "      <td>6493.200195</td>\n",
       "      <td>189900.0</td>\n",
       "    </tr>\n",
       "    <tr>\n",
       "      <td>983</td>\n",
       "      <td>23-04-2014</td>\n",
       "      <td>NaN</td>\n",
       "      <td>6861.600098</td>\n",
       "      <td>6820.750000</td>\n",
       "      <td>6840.799805</td>\n",
       "      <td>6840.799805</td>\n",
       "      <td>183000.0</td>\n",
       "    </tr>\n",
       "    <tr>\n",
       "      <td>1100</td>\n",
       "      <td>14-10-2014</td>\n",
       "      <td>NaN</td>\n",
       "      <td>7928.000000</td>\n",
       "      <td>7825.450195</td>\n",
       "      <td>7864.000000</td>\n",
       "      <td>7864.000000</td>\n",
       "      <td>225500.0</td>\n",
       "    </tr>\n",
       "    <tr>\n",
       "      <td>1151</td>\n",
       "      <td>31-12-2014</td>\n",
       "      <td>NaN</td>\n",
       "      <td>8291.000000</td>\n",
       "      <td>8243.750000</td>\n",
       "      <td>8282.700195</td>\n",
       "      <td>8282.700195</td>\n",
       "      <td>84500.0</td>\n",
       "    </tr>\n",
       "    <tr>\n",
       "      <td>1191</td>\n",
       "      <td>27-02-2015</td>\n",
       "      <td>NaN</td>\n",
       "      <td>8856.950195</td>\n",
       "      <td>8717.450195</td>\n",
       "      <td>8844.599609</td>\n",
       "      <td>8844.599609</td>\n",
       "      <td>249500.0</td>\n",
       "    </tr>\n",
       "    <tr>\n",
       "      <td>1220</td>\n",
       "      <td>13-04-2015</td>\n",
       "      <td>NaN</td>\n",
       "      <td>8841.650391</td>\n",
       "      <td>8762.099609</td>\n",
       "      <td>8834.000000</td>\n",
       "      <td>8834.000000</td>\n",
       "      <td>121600.0</td>\n",
       "    </tr>\n",
       "    <tr>\n",
       "      <td>1398</td>\n",
       "      <td>31-12-2015</td>\n",
       "      <td>NaN</td>\n",
       "      <td>7955.549805</td>\n",
       "      <td>7891.149902</td>\n",
       "      <td>7946.350098</td>\n",
       "      <td>7946.350098</td>\n",
       "      <td>150900.0</td>\n",
       "    </tr>\n",
       "    <tr>\n",
       "      <td>1550</td>\n",
       "      <td>11-08-2016</td>\n",
       "      <td>NaN</td>\n",
       "      <td>8601.150391</td>\n",
       "      <td>8540.049805</td>\n",
       "      <td>8592.150391</td>\n",
       "      <td>8592.150391</td>\n",
       "      <td>189200.0</td>\n",
       "    </tr>\n",
       "    <tr>\n",
       "      <td>1892</td>\n",
       "      <td>29-12-2017</td>\n",
       "      <td>NaN</td>\n",
       "      <td>10538.700200</td>\n",
       "      <td>10488.650390</td>\n",
       "      <td>10530.700200</td>\n",
       "      <td>10530.700200</td>\n",
       "      <td>152000.0</td>\n",
       "    </tr>\n",
       "    <tr>\n",
       "      <td>2138</td>\n",
       "      <td>31-12-2018</td>\n",
       "      <td>NaN</td>\n",
       "      <td>10923.549810</td>\n",
       "      <td>10853.200200</td>\n",
       "      <td>10862.549810</td>\n",
       "      <td>10862.549810</td>\n",
       "      <td>180900.0</td>\n",
       "    </tr>\n",
       "    <tr>\n",
       "      <td>2336</td>\n",
       "      <td>25-10-2019</td>\n",
       "      <td>NaN</td>\n",
       "      <td>11646.900390</td>\n",
       "      <td>11490.750000</td>\n",
       "      <td>11583.900390</td>\n",
       "      <td>11583.900390</td>\n",
       "      <td>800.0</td>\n",
       "    </tr>\n",
       "    <tr>\n",
       "      <td>2468</td>\n",
       "      <td>11-05-2020</td>\n",
       "      <td>NaN</td>\n",
       "      <td>9439.900391</td>\n",
       "      <td>9219.950195</td>\n",
       "      <td>9239.200195</td>\n",
       "      <td>9239.200195</td>\n",
       "      <td>704600.0</td>\n",
       "    </tr>\n",
       "  </tbody>\n",
       "</table>\n",
       "</div>"
      ],
      "text/plain": [
       "            Date  Open          High           Low         Close  \\\n",
       "264   30-05-2011   NaN   5509.299805   5458.600098   5473.100098   \n",
       "383   23-11-2011   NaN   4779.500000   4640.950195   4706.450195   \n",
       "404   23-12-2011   NaN   4763.450195   4693.200195   4714.000000   \n",
       "409   30-12-2011   NaN   4690.450195   4608.899902   4624.299805   \n",
       "414   06-01-2012   NaN   4794.899902   4686.850098   4754.100098   \n",
       "453   02-03-2012   NaN   5392.549805   5315.049805   5359.350098   \n",
       "505   18-05-2012   NaN   4908.500000   4788.950195   4891.450195   \n",
       "574   27-08-2012   NaN   5399.149902   5346.649902   5350.250000   \n",
       "583   07-09-2012   NaN   5347.149902   5309.200195   5342.100098   \n",
       "625   09-11-2012   NaN   5751.700195   5677.750000   5686.250000   \n",
       "658   31-12-2012   NaN   5919.000000   5897.149902   5905.100098   \n",
       "906   31-12-2013   NaN   6317.299805   6287.299805   6304.000000   \n",
       "962   21-03-2014   NaN   6522.899902   6485.700195   6493.200195   \n",
       "983   23-04-2014   NaN   6861.600098   6820.750000   6840.799805   \n",
       "1100  14-10-2014   NaN   7928.000000   7825.450195   7864.000000   \n",
       "1151  31-12-2014   NaN   8291.000000   8243.750000   8282.700195   \n",
       "1191  27-02-2015   NaN   8856.950195   8717.450195   8844.599609   \n",
       "1220  13-04-2015   NaN   8841.650391   8762.099609   8834.000000   \n",
       "1398  31-12-2015   NaN   7955.549805   7891.149902   7946.350098   \n",
       "1550  11-08-2016   NaN   8601.150391   8540.049805   8592.150391   \n",
       "1892  29-12-2017   NaN  10538.700200  10488.650390  10530.700200   \n",
       "2138  31-12-2018   NaN  10923.549810  10853.200200  10862.549810   \n",
       "2336  25-10-2019   NaN  11646.900390  11490.750000  11583.900390   \n",
       "2468  11-05-2020   NaN   9439.900391   9219.950195   9239.200195   \n",
       "\n",
       "          AdjClose    Volume  \n",
       "264    5473.100098       0.0  \n",
       "383    4706.450195       0.0  \n",
       "404    4714.000000       0.0  \n",
       "409    4624.299805       0.0  \n",
       "414    4754.100098       0.0  \n",
       "453    5359.350098       0.0  \n",
       "505    4891.450195       0.0  \n",
       "574    5350.250000       0.0  \n",
       "583    5342.100098       0.0  \n",
       "625    5686.250000       0.0  \n",
       "658    5905.100098       0.0  \n",
       "906    6304.000000  103400.0  \n",
       "962    6493.200195  189900.0  \n",
       "983    6840.799805  183000.0  \n",
       "1100   7864.000000  225500.0  \n",
       "1151   8282.700195   84500.0  \n",
       "1191   8844.599609  249500.0  \n",
       "1220   8834.000000  121600.0  \n",
       "1398   7946.350098  150900.0  \n",
       "1550   8592.150391  189200.0  \n",
       "1892  10530.700200  152000.0  \n",
       "2138  10862.549810  180900.0  \n",
       "2336  11583.900390     800.0  \n",
       "2468   9239.200195  704600.0  "
      ]
     },
     "execution_count": 11,
     "metadata": {},
     "output_type": "execute_result"
    }
   ],
   "source": [
    "#check rows contain null values\n",
    "\n",
    "INFY[INFY['Open'].isna()]\n",
    "CTSH[CTSH['Open'].isna()]\n",
    "ACN[ACN['Open'].isna()]\n",
    "ORCL[ORCL['Open'].isna()]\n",
    "Hang_Seng[Hang_Seng['Open'].isnull()]\n",
    "Nikkei_225[Nikkei_225['Open'].isnull()]\n",
    "es_train[es_train['Open'].isna()]\n",
    "NIFTY_50[NIFTY_50['Open'].isna()]"
   ]
  },
  {
   "cell_type": "code",
   "execution_count": 12,
   "metadata": {
    "scrolled": true
   },
   "outputs": [],
   "source": [
    "# drop null values because these values has no use\n",
    "\n",
    "Hang_Seng.dropna(axis=0,inplace=True)\n",
    "Nikkei_225.dropna(axis=0,inplace=True)\n",
    "es_train.dropna(axis=0,inplace=True)\n",
    "NIFTY_50.dropna(axis=0,inplace=True)\n",
    "NASDAQ.dropna(axis=0,inplace=True)\n",
    "INFY.dropna(axis=0,inplace=True)\n",
    "ACN.dropna(axis=0,inplace=True)\n",
    "CTSH.dropna(axis=0,inplace=True)\n",
    "ORCL.dropna(axis=0,inplace=True)"
   ]
  },
  {
   "cell_type": "code",
   "execution_count": 13,
   "metadata": {},
   "outputs": [
    {
     "name": "stdout",
     "output_type": "stream",
     "text": [
      "NASDAQ Date        0\n",
      "Open        0\n",
      "High        0\n",
      "Low         0\n",
      "Close       0\n",
      "AdjClose    0\n",
      "Volume      0\n",
      "dtype: int64 \n",
      "\n",
      "\n",
      " NIFTY_50 Date        0\n",
      "Open        0\n",
      "High        0\n",
      "Low         0\n",
      "Close       0\n",
      "AdjClose    0\n",
      "Volume      0\n",
      "dtype: int64 \n",
      "\n",
      "\n",
      " es_train Date        0\n",
      "Open        0\n",
      "High        0\n",
      "Low         0\n",
      "Close       0\n",
      "AdjClose    0\n",
      "Volume      0\n",
      "dtype: int64 \n",
      "\n",
      "\n",
      " Nikkei_225 Date        0\n",
      "Open        0\n",
      "High        0\n",
      "Low         0\n",
      "Close       0\n",
      "AdjClose    0\n",
      "Volume      0\n",
      "dtype: int64 \n",
      "\n",
      "\n",
      " Hang_Seng Date        0\n",
      "Open        0\n",
      "High        0\n",
      "Low         0\n",
      "Close       0\n",
      "AdjClose    0\n",
      "Volume      0\n",
      "dtype: int64\n"
     ]
    }
   ],
   "source": [
    "# Print samples to check weather null values is removed or not\n",
    "print('NASDAQ',NASDAQ.isna().sum(),'\\n\\n\\n','NIFTY_50',NIFTY_50.isna().sum(),'\\n\\n\\n','es_train',es_train.isna().sum(),'\\n\\n\\n',\"Nikkei_225\",Nikkei_225.isna().sum(),\"\\n\\n\\n\",\"Hang_Seng\",Hang_Seng.isna().sum())"
   ]
  },
  {
   "cell_type": "markdown",
   "metadata": {},
   "source": [
    "# Analysis of data and find out important factors"
   ]
  },
  {
   "cell_type": "code",
   "execution_count": 14,
   "metadata": {},
   "outputs": [
    {
     "data": {
      "text/plain": [
       "Text(0.5, 1.0, 'Closing price')"
      ]
     },
     "execution_count": 14,
     "metadata": {},
     "output_type": "execute_result"
    },
    {
     "data": {
      "image/png": "[encoded data removed]",
      "text/plain": [
       "<Figure size 1080x360 with 1 Axes>"
      ]
     },
     "metadata": {},
     "output_type": "display_data"
    }
   ],
   "source": [
    "sns.set(rc={'figure.figsize':(15,5)})\n",
    "sns.set(style=\"darkgrid\")\n",
    "\n",
    "sns.distplot(Hang_Seng.AdjClose,color='yellow',label='Hang_Seng')\n",
    "sns.distplot(NASDAQ.AdjClose,color='green',label='NASDAQ')\n",
    "sns.distplot(Nikkei_225.AdjClose,color='red',label='Nikkei_225')\n",
    "sns.distplot(NIFTY_50.AdjClose,color='blue',label='NIFTY_50')\n",
    "sns.distplot(es_train.AdjClose,color='black',label='es_train')\n",
    "plt.legend(loc='upper right')\n",
    "plt.title('Closing price')"
   ]
  },
  {
   "cell_type": "code",
   "execution_count": 15,
   "metadata": {},
   "outputs": [
    {
     "data": {
      "text/plain": [
       "Text(0.5, 1.0, 'Open price')"
      ]
     },
     "execution_count": 15,
     "metadata": {},
     "output_type": "execute_result"
    },
    {
     "data": {
      "image/png": "[encoded data removed]",
      "text/plain": [
       "<Figure size 936x504 with 1 Axes>"
      ]
     },
     "metadata": {},
     "output_type": "display_data"
    }
   ],
   "source": [
    "sns.set(rc={'figure.figsize':(13,7)})\n",
    "sns.set(style=\"darkgrid\")\n",
    "\n",
    "sns.distplot(Hang_Seng.Open,color='yellow',label='Hang_Seng')\n",
    "sns.distplot(NASDAQ.Open,color='green',label='NASDAQ')\n",
    "sns.distplot(Nikkei_225.Open,color='red',label='Nikkei_225')\n",
    "sns.distplot(NIFTY_50.Open,color='blue',label='NIFTY_50')\n",
    "plt.legend(loc='upper right')\n",
    "plt.title('Open price')"
   ]
  },
  {
   "cell_type": "code",
   "execution_count": 16,
   "metadata": {},
   "outputs": [
    {
     "data": {
      "text/plain": [
       "Text(0.5, 1.0, 'Regression plot')"
      ]
     },
     "execution_count": 16,
     "metadata": {},
     "output_type": "execute_result"
    },
    {
     "data": {
      "image/png": "[encoded data removed]",
      "text/plain": [
       "<Figure size 792x504 with 1 Axes>"
      ]
     },
     "metadata": {},
     "output_type": "display_data"
    }
   ],
   "source": [
    "sns.set(rc={'figure.figsize':(11,7)})\n",
    "sns.scatterplot(Hang_Seng.AdjClose,Hang_Seng.Open,color='gold',label='Hang_Seng')\n",
    "sns.scatterplot(NASDAQ.AdjClose,NASDAQ.Open,color='blue',label='NASDAQ')\n",
    "sns.scatterplot(NIFTY_50.AdjClose,NIFTY_50.Open,color='green',label='NIFTY_50')\n",
    "sns.scatterplot(Nikkei_225.AdjClose,Nikkei_225.Open,color='red',label='Nikkei_225')\n",
    "sns.scatterplot(es_train.AdjClose,es_train.Open,color='black',label='es_train')\n",
    "plt.legend(loc='upper left')\n",
    "plt.title('Regression plot')"
   ]
  },
  {
   "cell_type": "code",
   "execution_count": 17,
   "metadata": {},
   "outputs": [
    {
     "data": {
      "text/plain": [
       "Text(0.5, 1.0, 'Regression plot')"
      ]
     },
     "execution_count": 17,
     "metadata": {},
     "output_type": "execute_result"
    },
    {
     "data": {
      "image/png": "[encoded data removed]",
      "text/plain": [
       "<Figure size 504x648 with 1 Axes>"
      ]
     },
     "metadata": {},
     "output_type": "display_data"
    }
   ],
   "source": [
    "sns.set(rc={'figure.figsize':(7,9)})\n",
    "sns.scatterplot(ORCL.AdjClose,ORCL.Open,color='gold',label='ORCL')\n",
    "plt.legend(loc='upper left')\n",
    "plt.title('Regression plot')"
   ]
  },
  {
   "cell_type": "markdown",
   "metadata": {},
   "source": [
    " "
   ]
  },
  {
   "cell_type": "markdown",
   "metadata": {},
   "source": [
    "## as we can see in box plot their is no any outliers present in all dataset"
   ]
  },
  {
   "cell_type": "code",
   "execution_count": 18,
   "metadata": {},
   "outputs": [
    {
     "name": "stderr",
     "output_type": "stream",
     "text": [
      "'c' argument looks like a single numeric RGB or RGBA sequence, which should be avoided as value-mapping will have precedence in case its length matches with 'x' & 'y'.  Please use a 2-D array with a single row if you really want to specify the same RGB or RGBA value for all points.\n"
     ]
    },
    {
     "data": {
      "text/plain": [
       "<matplotlib.axes._subplots.AxesSubplot at 0xa2c344f508>"
      ]
     },
     "execution_count": 18,
     "metadata": {},
     "output_type": "execute_result"
    },
    {
     "data": {
      "image/png": "[encoded data removed]",
      "text/plain": [
       "<Figure size 504x648 with 1 Axes>"
      ]
     },
     "metadata": {},
     "output_type": "display_data"
    }
   ],
   "source": [
    "#checking outliers\n",
    "\n",
    "sns.boxplot(Hang_Seng.AdjClose,color='red')\n",
    "sns.boxplot(Nikkei_225.AdjClose,color='green')\n",
    "sns.boxplot(NASDAQ.AdjClose,color='blue')\n",
    "sns.boxplot(NIFTY_50.AdjClose,color='yellow')\n",
    "sns.boxenplot(es_train.AdjClose,color='black')"
   ]
  },
  {
   "cell_type": "code",
   "execution_count": 19,
   "metadata": {},
   "outputs": [],
   "source": [
    "# rename columns for better understand and can be differentiate all values\n",
    "\n",
    "Hang_Seng=Hang_Seng.rename(columns={'AdjClose': 'Hang_Seng_AdjClose'})\n",
    "Hang_Seng=Hang_Seng.rename(columns={'Open': 'Hang_Seng_Open'})\n",
    "NASDAQ=NASDAQ.rename(columns={'AdjClose': 'NASDAQ_AdjClose'})\n",
    "NASDAQ=NASDAQ.rename(columns={'Open': 'NASDAQ_Open'})\n",
    "Nikkei_225=Nikkei_225.rename(columns={'AdjClose': 'Nikkei_225_AdjClose'})\n",
    "Nikkei_225=Nikkei_225.rename(columns={'Open': 'Nikkei_225_Open'})\n",
    "NIFTY_50=NIFTY_50.rename(columns={'AdjClose': 'NIFTY_50_AdjClose'})\n",
    "NIFTY_50=NIFTY_50.rename(columns={'Open': 'NIFTY_50_Open'})\n",
    "es_train=es_train.rename(columns={'AdjClose': 'es_train_AdjClose'})\n",
    "es_train=es_train.rename(columns={'Open': 'es_train_Open'})\n",
    "INFY=INFY.rename(columns={'AdjClose': 'INFY_AdjClose'})\n",
    "INFY=INFY.rename(columns={'Open': 'INFY_Open'})\n",
    "ACN=ACN.rename(columns={'AdjClose': 'ACN_AdjClose'})\n",
    "ACN=ACN.rename(columns={'Open': 'ACN_Open'})\n",
    "CTSH = CTSH.rename(columns={'AdjClose': 'CTSH_AdjClose'})\n",
    "CTSH = CTSH.rename(columns={'Open': 'CTSH_Open'})\n",
    "ORCL = ORCL.rename(columns={'AdjClose': 'ORCL_AdjClose'})\n",
    "ORCL = ORCL.rename(columns={'Open': 'ORCL_Open'})"
   ]
  },
  {
   "cell_type": "markdown",
   "metadata": {},
   "source": [
    "## *** splitting data into important features  ***"
   ]
  },
  {
   "cell_type": "markdown",
   "metadata": {},
   "source": [
    "## ESCORTS"
   ]
  },
  {
   "cell_type": "code",
   "execution_count": 20,
   "metadata": {},
   "outputs": [],
   "source": [
    "df1 = Hang_Seng[['Date','Hang_Seng_AdjClose','Hang_Seng_Open']]\n",
    "df2 = NASDAQ[['Date','NASDAQ_AdjClose']]\n",
    "df3 = Nikkei_225[['Date','Nikkei_225_AdjClose','Nikkei_225_Open']]\n",
    "df4 = NIFTY_50[['Date','NIFTY_50_AdjClose','NIFTY_50_Open']]\n",
    "escorts = es_train[['Date','es_train_AdjClose','es_train_Open']]"
   ]
  },
  {
   "cell_type": "markdown",
   "metadata": {},
   "source": [
    "## INFY"
   ]
  },
  {
   "cell_type": "code",
   "execution_count": 21,
   "metadata": {},
   "outputs": [],
   "source": [
    "infy = INFY[['Date','INFY_AdjClose','INFY_Open']]"
   ]
  },
  {
   "cell_type": "markdown",
   "metadata": {},
   "source": [
    "## ACN"
   ]
  },
  {
   "cell_type": "code",
   "execution_count": 22,
   "metadata": {},
   "outputs": [],
   "source": [
    "ACN = ACN[['Date','ACN_AdjClose','ACN_Open']]"
   ]
  },
  {
   "cell_type": "markdown",
   "metadata": {},
   "source": [
    "## ORCL"
   ]
  },
  {
   "cell_type": "code",
   "execution_count": 23,
   "metadata": {},
   "outputs": [],
   "source": [
    "ORCL = ORCL[['Date','ORCL_AdjClose','ORCL_Open']]"
   ]
  },
  {
   "cell_type": "markdown",
   "metadata": {},
   "source": [
    "## CTSH"
   ]
  },
  {
   "cell_type": "code",
   "execution_count": 24,
   "metadata": {},
   "outputs": [],
   "source": [
    "CTSH = CTSH[['Date','CTSH_AdjClose','CTSH_Open']]"
   ]
  },
  {
   "cell_type": "code",
   "execution_count": 25,
   "metadata": {},
   "outputs": [],
   "source": [
    "# create sample data\n",
    "\n",
    "escopy = escorts[['Date','es_train_AdjClose']]\n",
    "escopy = pd.DataFrame(escopy)"
   ]
  },
  {
   "cell_type": "markdown",
   "metadata": {},
   "source": [
    "# *** Merging data ***"
   ]
  },
  {
   "cell_type": "code",
   "execution_count": 26,
   "metadata": {},
   "outputs": [],
   "source": [
    "#ESCORTS\n",
    "\n",
    "tb1 = pd.merge(df1,df2,how='inner',on='Date')\n",
    "tb1 = pd.merge(tb1,df3,how='inner',on='Date')\n",
    "tb1 = pd.merge(tb1,df4,how='inner',on='Date')\n",
    "escorts_df = pd.merge(tb1,escorts,how='inner',on='Date')\n",
    "\n",
    "#INFY\n",
    "\n",
    "tb4 = pd.merge(df1,df2,how='inner',on='Date')\n",
    "tb4 = pd.merge(tb4,df3,how='inner',on='Date')\n",
    "tb4 = pd.merge(tb4,df4,how='inner',on='Date')\n",
    "tb4 = pd.merge(tb4,escopy,how='inner',on='Date')\n",
    "INFY_df = pd.merge(tb4,infy,how='inner',on='Date')\n",
    "\n",
    "#ACN\n",
    "\n",
    "tb9 = pd.merge(df1,df2,how='inner',on='Date')\n",
    "tb9 = pd.merge(tb9,df3,how='inner',on='Date')\n",
    "tb9 = pd.merge(tb9,df4,how='inner',on='Date')\n",
    "tb9 = pd.merge(tb9,escopy,how='inner',on='Date')\n",
    "ACN = pd.merge(tb9,ACN,how='inner',on='Date')\n",
    "\n",
    "#CTSH\n",
    "\n",
    "tb10 = pd.merge(df1,df2,how='inner',on='Date')\n",
    "tb10 = pd.merge(tb10,df3,how='inner',on='Date')\n",
    "tb10 = pd.merge(tb10,df4,how='inner',on='Date')\n",
    "tb10 = pd.merge(tb10,escopy,how='inner',on='Date')\n",
    "CTSH = pd.merge(tb10,CTSH,how='inner',on='Date')\n",
    "\n",
    "#ORCL\n",
    "\n",
    "tb12 = pd.merge(df1,df2,how='inner',on='Date')\n",
    "tb12 = pd.merge(tb12,df3,how='inner',on='Date')\n",
    "tb12 = pd.merge(tb12,df4,how='inner',on='Date')\n",
    "tb12 = pd.merge(tb12,escopy,how='inner',on='Date')\n",
    "ORCL = pd.merge(tb12,ORCL,how='inner',on='Date')"
   ]
  },
  {
   "cell_type": "code",
   "execution_count": 27,
   "metadata": {},
   "outputs": [],
   "source": [
    "# ORCL.head()"
   ]
  },
  {
   "cell_type": "code",
   "execution_count": 28,
   "metadata": {
    "scrolled": true
   },
   "outputs": [],
   "source": [
    "escorts_df=escorts_df.drop(['Date'],axis=1)\n",
    "INFY_df=INFY_df.drop(['Date'],axis=1)\n",
    "ACN=ACN.drop(['Date'],axis=1)\n",
    "CTSH = CTSH.drop(['Date'],axis=1)\n",
    "ORCL = ORCL.drop(['Date'],axis=1)"
   ]
  },
  {
   "cell_type": "code",
   "execution_count": 29,
   "metadata": {},
   "outputs": [
    {
     "data": {
      "text/html": [
       "<div>\n",
       "<style scoped>\n",
       "    .dataframe tbody tr th:only-of-type {\n",
       "        vertical-align: middle;\n",
       "    }\n",
       "\n",
       "    .dataframe tbody tr th {\n",
       "        vertical-align: top;\n",
       "    }\n",
       "\n",
       "    .dataframe thead th {\n",
       "        text-align: right;\n",
       "    }\n",
       "</style>\n",
       "<table border=\"1\" class=\"dataframe\">\n",
       "  <thead>\n",
       "    <tr style=\"text-align: right;\">\n",
       "      <th></th>\n",
       "      <th>Hang_Seng_AdjClose</th>\n",
       "      <th>Hang_Seng_Open</th>\n",
       "      <th>NASDAQ_AdjClose</th>\n",
       "      <th>Nikkei_225_AdjClose</th>\n",
       "      <th>Nikkei_225_Open</th>\n",
       "      <th>NIFTY_50_AdjClose</th>\n",
       "      <th>NIFTY_50_Open</th>\n",
       "      <th>es_train_AdjClose</th>\n",
       "      <th>ORCL_AdjClose</th>\n",
       "      <th>ORCL_Open</th>\n",
       "    </tr>\n",
       "  </thead>\n",
       "  <tbody>\n",
       "    <tr>\n",
       "      <td>0</td>\n",
       "      <td>20212.49023</td>\n",
       "      <td>20411.55078</td>\n",
       "      <td>2425.020020</td>\n",
       "      <td>10394.03027</td>\n",
       "      <td>10542.76953</td>\n",
       "      <td>5156.649902</td>\n",
       "      <td>5157.549805</td>\n",
       "      <td>175.531219</td>\n",
       "      <td>21.561913</td>\n",
       "      <td>24.420000</td>\n",
       "    </tr>\n",
       "    <tr>\n",
       "      <td>1</td>\n",
       "      <td>20422.46094</td>\n",
       "      <td>20258.44922</td>\n",
       "      <td>2394.360107</td>\n",
       "      <td>10620.54981</td>\n",
       "      <td>10453.40039</td>\n",
       "      <td>5178.899902</td>\n",
       "      <td>5180.549805</td>\n",
       "      <td>178.270325</td>\n",
       "      <td>21.246368</td>\n",
       "      <td>24.100000</td>\n",
       "    </tr>\n",
       "    <tr>\n",
       "      <td>2</td>\n",
       "      <td>20145.42969</td>\n",
       "      <td>19832.02930</td>\n",
       "      <td>2346.850098</td>\n",
       "      <td>10462.50977</td>\n",
       "      <td>10329.37012</td>\n",
       "      <td>5093.500000</td>\n",
       "      <td>5093.899902</td>\n",
       "      <td>173.294266</td>\n",
       "      <td>20.843178</td>\n",
       "      <td>23.889999</td>\n",
       "    </tr>\n",
       "    <tr>\n",
       "      <td>3</td>\n",
       "      <td>19715.19922</td>\n",
       "      <td>19768.80078</td>\n",
       "      <td>2354.229980</td>\n",
       "      <td>10235.75977</td>\n",
       "      <td>10313.13965</td>\n",
       "      <td>5059.899902</td>\n",
       "      <td>5059.549805</td>\n",
       "      <td>173.431229</td>\n",
       "      <td>20.808119</td>\n",
       "      <td>23.799999</td>\n",
       "    </tr>\n",
       "    <tr>\n",
       "      <td>4</td>\n",
       "      <td>19944.93945</td>\n",
       "      <td>19552.16016</td>\n",
       "      <td>2317.260010</td>\n",
       "      <td>10242.63965</td>\n",
       "      <td>10087.33008</td>\n",
       "      <td>5066.200195</td>\n",
       "      <td>5065.100098</td>\n",
       "      <td>167.953003</td>\n",
       "      <td>20.536404</td>\n",
       "      <td>23.219999</td>\n",
       "    </tr>\n",
       "    <tr>\n",
       "      <td>...</td>\n",
       "      <td>...</td>\n",
       "      <td>...</td>\n",
       "      <td>...</td>\n",
       "      <td>...</td>\n",
       "      <td>...</td>\n",
       "      <td>...</td>\n",
       "      <td>...</td>\n",
       "      <td>...</td>\n",
       "      <td>...</td>\n",
       "      <td>...</td>\n",
       "    </tr>\n",
       "    <tr>\n",
       "      <td>2094</td>\n",
       "      <td>23977.32031</td>\n",
       "      <td>23844.55078</td>\n",
       "      <td>8494.750000</td>\n",
       "      <td>19429.43945</td>\n",
       "      <td>19331.85938</td>\n",
       "      <td>9313.900391</td>\n",
       "      <td>9163.900391</td>\n",
       "      <td>752.200012</td>\n",
       "      <td>51.970001</td>\n",
       "      <td>52.410000</td>\n",
       "    </tr>\n",
       "    <tr>\n",
       "      <td>2095</td>\n",
       "      <td>23831.33008</td>\n",
       "      <td>24030.66016</td>\n",
       "      <td>8634.519531</td>\n",
       "      <td>19262.00000</td>\n",
       "      <td>19410.83984</td>\n",
       "      <td>9154.400391</td>\n",
       "      <td>9259.700195</td>\n",
       "      <td>717.000000</td>\n",
       "      <td>53.009998</td>\n",
       "      <td>53.360001</td>\n",
       "    </tr>\n",
       "    <tr>\n",
       "      <td>2096</td>\n",
       "      <td>24280.14063</td>\n",
       "      <td>24401.11914</td>\n",
       "      <td>8730.160156</td>\n",
       "      <td>19783.22070</td>\n",
       "      <td>19776.17969</td>\n",
       "      <td>9282.299805</td>\n",
       "      <td>9389.799805</td>\n",
       "      <td>709.099976</td>\n",
       "      <td>53.369999</td>\n",
       "      <td>53.900002</td>\n",
       "    </tr>\n",
       "    <tr>\n",
       "      <td>2097</td>\n",
       "      <td>24575.96094</td>\n",
       "      <td>24786.01953</td>\n",
       "      <td>8607.730469</td>\n",
       "      <td>19771.18945</td>\n",
       "      <td>20105.67969</td>\n",
       "      <td>9380.900391</td>\n",
       "      <td>9408.599609</td>\n",
       "      <td>709.150024</td>\n",
       "      <td>53.200001</td>\n",
       "      <td>53.950001</td>\n",
       "    </tr>\n",
       "    <tr>\n",
       "      <td>2098</td>\n",
       "      <td>23980.63086</td>\n",
       "      <td>24193.35938</td>\n",
       "      <td>8979.660156</td>\n",
       "      <td>19674.76953</td>\n",
       "      <td>19972.08984</td>\n",
       "      <td>9199.049805</td>\n",
       "      <td>9376.950195</td>\n",
       "      <td>750.150024</td>\n",
       "      <td>52.599998</td>\n",
       "      <td>53.189999</td>\n",
       "    </tr>\n",
       "  </tbody>\n",
       "</table>\n",
       "<p>2099 rows × 10 columns</p>\n",
       "</div>"
      ],
      "text/plain": [
       "      Hang_Seng_AdjClose  Hang_Seng_Open  NASDAQ_AdjClose  \\\n",
       "0            20212.49023     20411.55078      2425.020020   \n",
       "1            20422.46094     20258.44922      2394.360107   \n",
       "2            20145.42969     19832.02930      2346.850098   \n",
       "3            19715.19922     19768.80078      2354.229980   \n",
       "4            19944.93945     19552.16016      2317.260010   \n",
       "...                  ...             ...              ...   \n",
       "2094         23977.32031     23844.55078      8494.750000   \n",
       "2095         23831.33008     24030.66016      8634.519531   \n",
       "2096         24280.14063     24401.11914      8730.160156   \n",
       "2097         24575.96094     24786.01953      8607.730469   \n",
       "2098         23980.63086     24193.35938      8979.660156   \n",
       "\n",
       "      Nikkei_225_AdjClose  Nikkei_225_Open  NIFTY_50_AdjClose  NIFTY_50_Open  \\\n",
       "0             10394.03027      10542.76953        5156.649902    5157.549805   \n",
       "1             10620.54981      10453.40039        5178.899902    5180.549805   \n",
       "2             10462.50977      10329.37012        5093.500000    5093.899902   \n",
       "3             10235.75977      10313.13965        5059.899902    5059.549805   \n",
       "4             10242.63965      10087.33008        5066.200195    5065.100098   \n",
       "...                   ...              ...                ...            ...   \n",
       "2094          19429.43945      19331.85938        9313.900391    9163.900391   \n",
       "2095          19262.00000      19410.83984        9154.400391    9259.700195   \n",
       "2096          19783.22070      19776.17969        9282.299805    9389.799805   \n",
       "2097          19771.18945      20105.67969        9380.900391    9408.599609   \n",
       "2098          19674.76953      19972.08984        9199.049805    9376.950195   \n",
       "\n",
       "      es_train_AdjClose  ORCL_AdjClose  ORCL_Open  \n",
       "0            175.531219      21.561913  24.420000  \n",
       "1            178.270325      21.246368  24.100000  \n",
       "2            173.294266      20.843178  23.889999  \n",
       "3            173.431229      20.808119  23.799999  \n",
       "4            167.953003      20.536404  23.219999  \n",
       "...                 ...            ...        ...  \n",
       "2094         752.200012      51.970001  52.410000  \n",
       "2095         717.000000      53.009998  53.360001  \n",
       "2096         709.099976      53.369999  53.900002  \n",
       "2097         709.150024      53.200001  53.950001  \n",
       "2098         750.150024      52.599998  53.189999  \n",
       "\n",
       "[2099 rows x 10 columns]"
      ]
     },
     "execution_count": 29,
     "metadata": {},
     "output_type": "execute_result"
    }
   ],
   "source": [
    "ORCL"
   ]
  },
  {
   "cell_type": "code",
   "execution_count": 30,
   "metadata": {},
   "outputs": [
    {
     "data": {
      "text/html": [
       "<style  type=\"text/css\" >\n",
       "    #T_85c2afd2_aa29_11ea_960e_6cc2177a96cdrow0_col0 {\n",
       "            background-color:  #67000d;\n",
       "            color:  #f1f1f1;\n",
       "        }    #T_85c2afd2_aa29_11ea_960e_6cc2177a96cdrow0_col1 {\n",
       "            background-color:  #6b010e;\n",
       "            color:  #f1f1f1;\n",
       "        }    #T_85c2afd2_aa29_11ea_960e_6cc2177a96cdrow0_col2 {\n",
       "            background-color:  #fff4ef;\n",
       "            color:  #000000;\n",
       "        }    #T_85c2afd2_aa29_11ea_960e_6cc2177a96cdrow0_col3 {\n",
       "            background-color:  #feeae0;\n",
       "            color:  #000000;\n",
       "        }    #T_85c2afd2_aa29_11ea_960e_6cc2177a96cdrow0_col4 {\n",
       "            background-color:  #feeae0;\n",
       "            color:  #000000;\n",
       "        }    #T_85c2afd2_aa29_11ea_960e_6cc2177a96cdrow0_col5 {\n",
       "            background-color:  #fff4ef;\n",
       "            color:  #000000;\n",
       "        }    #T_85c2afd2_aa29_11ea_960e_6cc2177a96cdrow0_col6 {\n",
       "            background-color:  #fff5f0;\n",
       "            color:  #000000;\n",
       "        }    #T_85c2afd2_aa29_11ea_960e_6cc2177a96cdrow0_col7 {\n",
       "            background-color:  #fdd1be;\n",
       "            color:  #000000;\n",
       "        }    #T_85c2afd2_aa29_11ea_960e_6cc2177a96cdrow0_col8 {\n",
       "            background-color:  #fff5f0;\n",
       "            color:  #000000;\n",
       "        }    #T_85c2afd2_aa29_11ea_960e_6cc2177a96cdrow0_col9 {\n",
       "            background-color:  #fff2ec;\n",
       "            color:  #000000;\n",
       "        }    #T_85c2afd2_aa29_11ea_960e_6cc2177a96cdrow1_col0 {\n",
       "            background-color:  #6b010e;\n",
       "            color:  #f1f1f1;\n",
       "        }    #T_85c2afd2_aa29_11ea_960e_6cc2177a96cdrow1_col1 {\n",
       "            background-color:  #67000d;\n",
       "            color:  #f1f1f1;\n",
       "        }    #T_85c2afd2_aa29_11ea_960e_6cc2177a96cdrow1_col2 {\n",
       "            background-color:  #fff5f0;\n",
       "            color:  #000000;\n",
       "        }    #T_85c2afd2_aa29_11ea_960e_6cc2177a96cdrow1_col3 {\n",
       "            background-color:  #feeae1;\n",
       "            color:  #000000;\n",
       "        }    #T_85c2afd2_aa29_11ea_960e_6cc2177a96cdrow1_col4 {\n",
       "            background-color:  #feeae0;\n",
       "            color:  #000000;\n",
       "        }    #T_85c2afd2_aa29_11ea_960e_6cc2177a96cdrow1_col5 {\n",
       "            background-color:  #fff5f0;\n",
       "            color:  #000000;\n",
       "        }    #T_85c2afd2_aa29_11ea_960e_6cc2177a96cdrow1_col6 {\n",
       "            background-color:  #fff5f0;\n",
       "            color:  #000000;\n",
       "        }    #T_85c2afd2_aa29_11ea_960e_6cc2177a96cdrow1_col7 {\n",
       "            background-color:  #fdd3c1;\n",
       "            color:  #000000;\n",
       "        }    #T_85c2afd2_aa29_11ea_960e_6cc2177a96cdrow1_col8 {\n",
       "            background-color:  #fff5f0;\n",
       "            color:  #000000;\n",
       "        }    #T_85c2afd2_aa29_11ea_960e_6cc2177a96cdrow1_col9 {\n",
       "            background-color:  #fff2eb;\n",
       "            color:  #000000;\n",
       "        }    #T_85c2afd2_aa29_11ea_960e_6cc2177a96cdrow2_col0 {\n",
       "            background-color:  #fff2eb;\n",
       "            color:  #000000;\n",
       "        }    #T_85c2afd2_aa29_11ea_960e_6cc2177a96cdrow2_col1 {\n",
       "            background-color:  #fff3ed;\n",
       "            color:  #000000;\n",
       "        }    #T_85c2afd2_aa29_11ea_960e_6cc2177a96cdrow2_col2 {\n",
       "            background-color:  #67000d;\n",
       "            color:  #f1f1f1;\n",
       "        }    #T_85c2afd2_aa29_11ea_960e_6cc2177a96cdrow2_col3 {\n",
       "            background-color:  #d92523;\n",
       "            color:  #f1f1f1;\n",
       "        }    #T_85c2afd2_aa29_11ea_960e_6cc2177a96cdrow2_col4 {\n",
       "            background-color:  #d92523;\n",
       "            color:  #f1f1f1;\n",
       "        }    #T_85c2afd2_aa29_11ea_960e_6cc2177a96cdrow2_col5 {\n",
       "            background-color:  #b31218;\n",
       "            color:  #f1f1f1;\n",
       "        }    #T_85c2afd2_aa29_11ea_960e_6cc2177a96cdrow2_col6 {\n",
       "            background-color:  #b51318;\n",
       "            color:  #f1f1f1;\n",
       "        }    #T_85c2afd2_aa29_11ea_960e_6cc2177a96cdrow2_col7 {\n",
       "            background-color:  #fc8060;\n",
       "            color:  #000000;\n",
       "        }    #T_85c2afd2_aa29_11ea_960e_6cc2177a96cdrow2_col8 {\n",
       "            background-color:  #fc8161;\n",
       "            color:  #000000;\n",
       "        }    #T_85c2afd2_aa29_11ea_960e_6cc2177a96cdrow2_col9 {\n",
       "            background-color:  #fc8e6e;\n",
       "            color:  #000000;\n",
       "        }    #T_85c2afd2_aa29_11ea_960e_6cc2177a96cdrow3_col0 {\n",
       "            background-color:  #ffefe8;\n",
       "            color:  #000000;\n",
       "        }    #T_85c2afd2_aa29_11ea_960e_6cc2177a96cdrow3_col1 {\n",
       "            background-color:  #fff0e9;\n",
       "            color:  #000000;\n",
       "        }    #T_85c2afd2_aa29_11ea_960e_6cc2177a96cdrow3_col2 {\n",
       "            background-color:  #dd2a25;\n",
       "            color:  #f1f1f1;\n",
       "        }    #T_85c2afd2_aa29_11ea_960e_6cc2177a96cdrow3_col3 {\n",
       "            background-color:  #67000d;\n",
       "            color:  #f1f1f1;\n",
       "        }    #T_85c2afd2_aa29_11ea_960e_6cc2177a96cdrow3_col4 {\n",
       "            background-color:  #67000d;\n",
       "            color:  #f1f1f1;\n",
       "        }    #T_85c2afd2_aa29_11ea_960e_6cc2177a96cdrow3_col5 {\n",
       "            background-color:  #ea362a;\n",
       "            color:  #f1f1f1;\n",
       "        }    #T_85c2afd2_aa29_11ea_960e_6cc2177a96cdrow3_col6 {\n",
       "            background-color:  #eb372a;\n",
       "            color:  #f1f1f1;\n",
       "        }    #T_85c2afd2_aa29_11ea_960e_6cc2177a96cdrow3_col7 {\n",
       "            background-color:  #fff5f0;\n",
       "            color:  #000000;\n",
       "        }    #T_85c2afd2_aa29_11ea_960e_6cc2177a96cdrow3_col8 {\n",
       "            background-color:  #da2723;\n",
       "            color:  #f1f1f1;\n",
       "        }    #T_85c2afd2_aa29_11ea_960e_6cc2177a96cdrow3_col9 {\n",
       "            background-color:  #dd2a25;\n",
       "            color:  #f1f1f1;\n",
       "        }    #T_85c2afd2_aa29_11ea_960e_6cc2177a96cdrow4_col0 {\n",
       "            background-color:  #ffefe8;\n",
       "            color:  #000000;\n",
       "        }    #T_85c2afd2_aa29_11ea_960e_6cc2177a96cdrow4_col1 {\n",
       "            background-color:  #fff0e8;\n",
       "            color:  #000000;\n",
       "        }    #T_85c2afd2_aa29_11ea_960e_6cc2177a96cdrow4_col2 {\n",
       "            background-color:  #dd2a25;\n",
       "            color:  #f1f1f1;\n",
       "        }    #T_85c2afd2_aa29_11ea_960e_6cc2177a96cdrow4_col3 {\n",
       "            background-color:  #67000d;\n",
       "            color:  #f1f1f1;\n",
       "        }    #T_85c2afd2_aa29_11ea_960e_6cc2177a96cdrow4_col4 {\n",
       "            background-color:  #67000d;\n",
       "            color:  #f1f1f1;\n",
       "        }    #T_85c2afd2_aa29_11ea_960e_6cc2177a96cdrow4_col5 {\n",
       "            background-color:  #eb372a;\n",
       "            color:  #f1f1f1;\n",
       "        }    #T_85c2afd2_aa29_11ea_960e_6cc2177a96cdrow4_col6 {\n",
       "            background-color:  #ea362a;\n",
       "            color:  #f1f1f1;\n",
       "        }    #T_85c2afd2_aa29_11ea_960e_6cc2177a96cdrow4_col7 {\n",
       "            background-color:  #fff5f0;\n",
       "            color:  #000000;\n",
       "        }    #T_85c2afd2_aa29_11ea_960e_6cc2177a96cdrow4_col8 {\n",
       "            background-color:  #da2723;\n",
       "            color:  #f1f1f1;\n",
       "        }    #T_85c2afd2_aa29_11ea_960e_6cc2177a96cdrow4_col9 {\n",
       "            background-color:  #dc2924;\n",
       "            color:  #f1f1f1;\n",
       "        }    #T_85c2afd2_aa29_11ea_960e_6cc2177a96cdrow5_col0 {\n",
       "            background-color:  #fdc9b3;\n",
       "            color:  #000000;\n",
       "        }    #T_85c2afd2_aa29_11ea_960e_6cc2177a96cdrow5_col1 {\n",
       "            background-color:  #fdccb8;\n",
       "            color:  #000000;\n",
       "        }    #T_85c2afd2_aa29_11ea_960e_6cc2177a96cdrow5_col2 {\n",
       "            background-color:  #aa1016;\n",
       "            color:  #f1f1f1;\n",
       "        }    #T_85c2afd2_aa29_11ea_960e_6cc2177a96cdrow5_col3 {\n",
       "            background-color:  #d32020;\n",
       "            color:  #f1f1f1;\n",
       "        }    #T_85c2afd2_aa29_11ea_960e_6cc2177a96cdrow5_col4 {\n",
       "            background-color:  #d32020;\n",
       "            color:  #f1f1f1;\n",
       "        }    #T_85c2afd2_aa29_11ea_960e_6cc2177a96cdrow5_col5 {\n",
       "            background-color:  #67000d;\n",
       "            color:  #f1f1f1;\n",
       "        }    #T_85c2afd2_aa29_11ea_960e_6cc2177a96cdrow5_col6 {\n",
       "            background-color:  #67000d;\n",
       "            color:  #f1f1f1;\n",
       "        }    #T_85c2afd2_aa29_11ea_960e_6cc2177a96cdrow5_col7 {\n",
       "            background-color:  #fc8969;\n",
       "            color:  #000000;\n",
       "        }    #T_85c2afd2_aa29_11ea_960e_6cc2177a96cdrow5_col8 {\n",
       "            background-color:  #f85f43;\n",
       "            color:  #000000;\n",
       "        }    #T_85c2afd2_aa29_11ea_960e_6cc2177a96cdrow5_col9 {\n",
       "            background-color:  #fb6b4b;\n",
       "            color:  #000000;\n",
       "        }    #T_85c2afd2_aa29_11ea_960e_6cc2177a96cdrow6_col0 {\n",
       "            background-color:  #fdcab5;\n",
       "            color:  #000000;\n",
       "        }    #T_85c2afd2_aa29_11ea_960e_6cc2177a96cdrow6_col1 {\n",
       "            background-color:  #fdcbb6;\n",
       "            color:  #000000;\n",
       "        }    #T_85c2afd2_aa29_11ea_960e_6cc2177a96cdrow6_col2 {\n",
       "            background-color:  #aa1016;\n",
       "            color:  #f1f1f1;\n",
       "        }    #T_85c2afd2_aa29_11ea_960e_6cc2177a96cdrow6_col3 {\n",
       "            background-color:  #d32020;\n",
       "            color:  #f1f1f1;\n",
       "        }    #T_85c2afd2_aa29_11ea_960e_6cc2177a96cdrow6_col4 {\n",
       "            background-color:  #d32020;\n",
       "            color:  #f1f1f1;\n",
       "        }    #T_85c2afd2_aa29_11ea_960e_6cc2177a96cdrow6_col5 {\n",
       "            background-color:  #67000d;\n",
       "            color:  #f1f1f1;\n",
       "        }    #T_85c2afd2_aa29_11ea_960e_6cc2177a96cdrow6_col6 {\n",
       "            background-color:  #67000d;\n",
       "            color:  #f1f1f1;\n",
       "        }    #T_85c2afd2_aa29_11ea_960e_6cc2177a96cdrow6_col7 {\n",
       "            background-color:  #fc8969;\n",
       "            color:  #000000;\n",
       "        }    #T_85c2afd2_aa29_11ea_960e_6cc2177a96cdrow6_col8 {\n",
       "            background-color:  #f85f43;\n",
       "            color:  #000000;\n",
       "        }    #T_85c2afd2_aa29_11ea_960e_6cc2177a96cdrow6_col9 {\n",
       "            background-color:  #fb6b4b;\n",
       "            color:  #000000;\n",
       "        }    #T_85c2afd2_aa29_11ea_960e_6cc2177a96cdrow7_col0 {\n",
       "            background-color:  #fedaca;\n",
       "            color:  #000000;\n",
       "        }    #T_85c2afd2_aa29_11ea_960e_6cc2177a96cdrow7_col1 {\n",
       "            background-color:  #fedecf;\n",
       "            color:  #000000;\n",
       "        }    #T_85c2afd2_aa29_11ea_960e_6cc2177a96cdrow7_col2 {\n",
       "            background-color:  #fc8a6a;\n",
       "            color:  #000000;\n",
       "        }    #T_85c2afd2_aa29_11ea_960e_6cc2177a96cdrow7_col3 {\n",
       "            background-color:  #fff5f0;\n",
       "            color:  #000000;\n",
       "        }    #T_85c2afd2_aa29_11ea_960e_6cc2177a96cdrow7_col4 {\n",
       "            background-color:  #fff5f0;\n",
       "            color:  #000000;\n",
       "        }    #T_85c2afd2_aa29_11ea_960e_6cc2177a96cdrow7_col5 {\n",
       "            background-color:  #fcc1a8;\n",
       "            color:  #000000;\n",
       "        }    #T_85c2afd2_aa29_11ea_960e_6cc2177a96cdrow7_col6 {\n",
       "            background-color:  #fcc2aa;\n",
       "            color:  #000000;\n",
       "        }    #T_85c2afd2_aa29_11ea_960e_6cc2177a96cdrow7_col7 {\n",
       "            background-color:  #67000d;\n",
       "            color:  #f1f1f1;\n",
       "        }    #T_85c2afd2_aa29_11ea_960e_6cc2177a96cdrow7_col8 {\n",
       "            background-color:  #fff4ee;\n",
       "            color:  #000000;\n",
       "        }    #T_85c2afd2_aa29_11ea_960e_6cc2177a96cdrow7_col9 {\n",
       "            background-color:  #fff5f0;\n",
       "            color:  #000000;\n",
       "        }    #T_85c2afd2_aa29_11ea_960e_6cc2177a96cdrow8_col0 {\n",
       "            background-color:  #ffefe8;\n",
       "            color:  #000000;\n",
       "        }    #T_85c2afd2_aa29_11ea_960e_6cc2177a96cdrow8_col1 {\n",
       "            background-color:  #fff0e8;\n",
       "            color:  #000000;\n",
       "        }    #T_85c2afd2_aa29_11ea_960e_6cc2177a96cdrow8_col2 {\n",
       "            background-color:  #fb7d5d;\n",
       "            color:  #000000;\n",
       "        }    #T_85c2afd2_aa29_11ea_960e_6cc2177a96cdrow8_col3 {\n",
       "            background-color:  #d42121;\n",
       "            color:  #f1f1f1;\n",
       "        }    #T_85c2afd2_aa29_11ea_960e_6cc2177a96cdrow8_col4 {\n",
       "            background-color:  #d32020;\n",
       "            color:  #f1f1f1;\n",
       "        }    #T_85c2afd2_aa29_11ea_960e_6cc2177a96cdrow8_col5 {\n",
       "            background-color:  #fc8060;\n",
       "            color:  #000000;\n",
       "        }    #T_85c2afd2_aa29_11ea_960e_6cc2177a96cdrow8_col6 {\n",
       "            background-color:  #fc8060;\n",
       "            color:  #000000;\n",
       "        }    #T_85c2afd2_aa29_11ea_960e_6cc2177a96cdrow8_col7 {\n",
       "            background-color:  #fee8dd;\n",
       "            color:  #000000;\n",
       "        }    #T_85c2afd2_aa29_11ea_960e_6cc2177a96cdrow8_col8 {\n",
       "            background-color:  #67000d;\n",
       "            color:  #f1f1f1;\n",
       "        }    #T_85c2afd2_aa29_11ea_960e_6cc2177a96cdrow8_col9 {\n",
       "            background-color:  #69000d;\n",
       "            color:  #f1f1f1;\n",
       "        }    #T_85c2afd2_aa29_11ea_960e_6cc2177a96cdrow9_col0 {\n",
       "            background-color:  #fff5f0;\n",
       "            color:  #000000;\n",
       "        }    #T_85c2afd2_aa29_11ea_960e_6cc2177a96cdrow9_col1 {\n",
       "            background-color:  #fff5f0;\n",
       "            color:  #000000;\n",
       "        }    #T_85c2afd2_aa29_11ea_960e_6cc2177a96cdrow9_col2 {\n",
       "            background-color:  #fc9576;\n",
       "            color:  #000000;\n",
       "        }    #T_85c2afd2_aa29_11ea_960e_6cc2177a96cdrow9_col3 {\n",
       "            background-color:  #db2824;\n",
       "            color:  #f1f1f1;\n",
       "        }    #T_85c2afd2_aa29_11ea_960e_6cc2177a96cdrow9_col4 {\n",
       "            background-color:  #db2824;\n",
       "            color:  #f1f1f1;\n",
       "        }    #T_85c2afd2_aa29_11ea_960e_6cc2177a96cdrow9_col5 {\n",
       "            background-color:  #fc9777;\n",
       "            color:  #000000;\n",
       "        }    #T_85c2afd2_aa29_11ea_960e_6cc2177a96cdrow9_col6 {\n",
       "            background-color:  #fc9777;\n",
       "            color:  #000000;\n",
       "        }    #T_85c2afd2_aa29_11ea_960e_6cc2177a96cdrow9_col7 {\n",
       "            background-color:  #fff2ec;\n",
       "            color:  #000000;\n",
       "        }    #T_85c2afd2_aa29_11ea_960e_6cc2177a96cdrow9_col8 {\n",
       "            background-color:  #69000d;\n",
       "            color:  #f1f1f1;\n",
       "        }    #T_85c2afd2_aa29_11ea_960e_6cc2177a96cdrow9_col9 {\n",
       "            background-color:  #67000d;\n",
       "            color:  #f1f1f1;\n",
       "        }</style><table id=\"T_85c2afd2_aa29_11ea_960e_6cc2177a96cd\" ><thead>    <tr>        <th class=\"blank level0\" ></th>        <th class=\"col_heading level0 col0\" >Hang_Seng_AdjClose</th>        <th class=\"col_heading level0 col1\" >Hang_Seng_Open</th>        <th class=\"col_heading level0 col2\" >NASDAQ_AdjClose</th>        <th class=\"col_heading level0 col3\" >Nikkei_225_AdjClose</th>        <th class=\"col_heading level0 col4\" >Nikkei_225_Open</th>        <th class=\"col_heading level0 col5\" >NIFTY_50_AdjClose</th>        <th class=\"col_heading level0 col6\" >NIFTY_50_Open</th>        <th class=\"col_heading level0 col7\" >es_train_AdjClose</th>        <th class=\"col_heading level0 col8\" >CTSH_AdjClose</th>        <th class=\"col_heading level0 col9\" >CTSH_Open</th>    </tr></thead><tbody>\n",
       "                <tr>\n",
       "                        <th id=\"T_85c2afd2_aa29_11ea_960e_6cc2177a96cdlevel0_row0\" class=\"row_heading level0 row0\" >Hang_Seng_AdjClose</th>\n",
       "                        <td id=\"T_85c2afd2_aa29_11ea_960e_6cc2177a96cdrow0_col0\" class=\"data row0 col0\" >1</td>\n",
       "                        <td id=\"T_85c2afd2_aa29_11ea_960e_6cc2177a96cdrow0_col1\" class=\"data row0 col1\" >0.998131</td>\n",
       "                        <td id=\"T_85c2afd2_aa29_11ea_960e_6cc2177a96cdrow0_col2\" class=\"data row0 col2\" >0.78988</td>\n",
       "                        <td id=\"T_85c2afd2_aa29_11ea_960e_6cc2177a96cdrow0_col3\" class=\"data row0 col3\" >0.792983</td>\n",
       "                        <td id=\"T_85c2afd2_aa29_11ea_960e_6cc2177a96cdrow0_col4\" class=\"data row0 col4\" >0.792684</td>\n",
       "                        <td id=\"T_85c2afd2_aa29_11ea_960e_6cc2177a96cdrow0_col5\" class=\"data row0 col5\" >0.828906</td>\n",
       "                        <td id=\"T_85c2afd2_aa29_11ea_960e_6cc2177a96cdrow0_col6\" class=\"data row0 col6\" >0.828294</td>\n",
       "                        <td id=\"T_85c2afd2_aa29_11ea_960e_6cc2177a96cdrow0_col7\" class=\"data row0 col7\" >0.816526</td>\n",
       "                        <td id=\"T_85c2afd2_aa29_11ea_960e_6cc2177a96cdrow0_col8\" class=\"data row0 col8\" >0.792845</td>\n",
       "                        <td id=\"T_85c2afd2_aa29_11ea_960e_6cc2177a96cdrow0_col9\" class=\"data row0 col9\" >0.785052</td>\n",
       "            </tr>\n",
       "            <tr>\n",
       "                        <th id=\"T_85c2afd2_aa29_11ea_960e_6cc2177a96cdlevel0_row1\" class=\"row_heading level0 row1\" >Hang_Seng_Open</th>\n",
       "                        <td id=\"T_85c2afd2_aa29_11ea_960e_6cc2177a96cdrow1_col0\" class=\"data row1 col0\" >0.998131</td>\n",
       "                        <td id=\"T_85c2afd2_aa29_11ea_960e_6cc2177a96cdrow1_col1\" class=\"data row1 col1\" >1</td>\n",
       "                        <td id=\"T_85c2afd2_aa29_11ea_960e_6cc2177a96cdrow1_col2\" class=\"data row1 col2\" >0.788947</td>\n",
       "                        <td id=\"T_85c2afd2_aa29_11ea_960e_6cc2177a96cdrow1_col3\" class=\"data row1 col3\" >0.792134</td>\n",
       "                        <td id=\"T_85c2afd2_aa29_11ea_960e_6cc2177a96cdrow1_col4\" class=\"data row1 col4\" >0.792861</td>\n",
       "                        <td id=\"T_85c2afd2_aa29_11ea_960e_6cc2177a96cdrow1_col5\" class=\"data row1 col5\" >0.827732</td>\n",
       "                        <td id=\"T_85c2afd2_aa29_11ea_960e_6cc2177a96cdrow1_col6\" class=\"data row1 col6\" >0.827904</td>\n",
       "                        <td id=\"T_85c2afd2_aa29_11ea_960e_6cc2177a96cdrow1_col7\" class=\"data row1 col7\" >0.815238</td>\n",
       "                        <td id=\"T_85c2afd2_aa29_11ea_960e_6cc2177a96cdrow1_col8\" class=\"data row1 col8\" >0.793237</td>\n",
       "                        <td id=\"T_85c2afd2_aa29_11ea_960e_6cc2177a96cdrow1_col9\" class=\"data row1 col9\" >0.785977</td>\n",
       "            </tr>\n",
       "            <tr>\n",
       "                        <th id=\"T_85c2afd2_aa29_11ea_960e_6cc2177a96cdlevel0_row2\" class=\"row_heading level0 row2\" >NASDAQ_AdjClose</th>\n",
       "                        <td id=\"T_85c2afd2_aa29_11ea_960e_6cc2177a96cdrow2_col0\" class=\"data row2 col0\" >0.78988</td>\n",
       "                        <td id=\"T_85c2afd2_aa29_11ea_960e_6cc2177a96cdrow2_col1\" class=\"data row2 col1\" >0.788947</td>\n",
       "                        <td id=\"T_85c2afd2_aa29_11ea_960e_6cc2177a96cdrow2_col2\" class=\"data row2 col2\" >1</td>\n",
       "                        <td id=\"T_85c2afd2_aa29_11ea_960e_6cc2177a96cdrow2_col3\" class=\"data row2 col3\" >0.933506</td>\n",
       "                        <td id=\"T_85c2afd2_aa29_11ea_960e_6cc2177a96cdrow2_col4\" class=\"data row2 col4\" >0.933538</td>\n",
       "                        <td id=\"T_85c2afd2_aa29_11ea_960e_6cc2177a96cdrow2_col5\" class=\"data row2 col5\" >0.969755</td>\n",
       "                        <td id=\"T_85c2afd2_aa29_11ea_960e_6cc2177a96cdrow2_col6\" class=\"data row2 col6\" >0.969745</td>\n",
       "                        <td id=\"T_85c2afd2_aa29_11ea_960e_6cc2177a96cdrow2_col7\" class=\"data row2 col7\" >0.873364</td>\n",
       "                        <td id=\"T_85c2afd2_aa29_11ea_960e_6cc2177a96cdrow2_col8\" class=\"data row2 col8\" >0.881439</td>\n",
       "                        <td id=\"T_85c2afd2_aa29_11ea_960e_6cc2177a96cdrow2_col9\" class=\"data row2 col9\" >0.865821</td>\n",
       "            </tr>\n",
       "            <tr>\n",
       "                        <th id=\"T_85c2afd2_aa29_11ea_960e_6cc2177a96cdlevel0_row3\" class=\"row_heading level0 row3\" >Nikkei_225_AdjClose</th>\n",
       "                        <td id=\"T_85c2afd2_aa29_11ea_960e_6cc2177a96cdrow3_col0\" class=\"data row3 col0\" >0.792983</td>\n",
       "                        <td id=\"T_85c2afd2_aa29_11ea_960e_6cc2177a96cdrow3_col1\" class=\"data row3 col1\" >0.792134</td>\n",
       "                        <td id=\"T_85c2afd2_aa29_11ea_960e_6cc2177a96cdrow3_col2\" class=\"data row3 col2\" >0.933506</td>\n",
       "                        <td id=\"T_85c2afd2_aa29_11ea_960e_6cc2177a96cdrow3_col3\" class=\"data row3 col3\" >1</td>\n",
       "                        <td id=\"T_85c2afd2_aa29_11ea_960e_6cc2177a96cdrow3_col4\" class=\"data row3 col4\" >0.999652</td>\n",
       "                        <td id=\"T_85c2afd2_aa29_11ea_960e_6cc2177a96cdrow3_col5\" class=\"data row3 col5\" >0.938133</td>\n",
       "                        <td id=\"T_85c2afd2_aa29_11ea_960e_6cc2177a96cdrow3_col6\" class=\"data row3 col6\" >0.938037</td>\n",
       "                        <td id=\"T_85c2afd2_aa29_11ea_960e_6cc2177a96cdrow3_col7\" class=\"data row3 col7\" >0.777464</td>\n",
       "                        <td id=\"T_85c2afd2_aa29_11ea_960e_6cc2177a96cdrow3_col8\" class=\"data row3 col8\" >0.936942</td>\n",
       "                        <td id=\"T_85c2afd2_aa29_11ea_960e_6cc2177a96cdrow3_col9\" class=\"data row3 col9\" >0.931432</td>\n",
       "            </tr>\n",
       "            <tr>\n",
       "                        <th id=\"T_85c2afd2_aa29_11ea_960e_6cc2177a96cdlevel0_row4\" class=\"row_heading level0 row4\" >Nikkei_225_Open</th>\n",
       "                        <td id=\"T_85c2afd2_aa29_11ea_960e_6cc2177a96cdrow4_col0\" class=\"data row4 col0\" >0.792684</td>\n",
       "                        <td id=\"T_85c2afd2_aa29_11ea_960e_6cc2177a96cdrow4_col1\" class=\"data row4 col1\" >0.792861</td>\n",
       "                        <td id=\"T_85c2afd2_aa29_11ea_960e_6cc2177a96cdrow4_col2\" class=\"data row4 col2\" >0.933538</td>\n",
       "                        <td id=\"T_85c2afd2_aa29_11ea_960e_6cc2177a96cdrow4_col3\" class=\"data row4 col3\" >0.999652</td>\n",
       "                        <td id=\"T_85c2afd2_aa29_11ea_960e_6cc2177a96cdrow4_col4\" class=\"data row4 col4\" >1</td>\n",
       "                        <td id=\"T_85c2afd2_aa29_11ea_960e_6cc2177a96cdrow4_col5\" class=\"data row4 col5\" >0.938025</td>\n",
       "                        <td id=\"T_85c2afd2_aa29_11ea_960e_6cc2177a96cdrow4_col6\" class=\"data row4 col6\" >0.938168</td>\n",
       "                        <td id=\"T_85c2afd2_aa29_11ea_960e_6cc2177a96cdrow4_col7\" class=\"data row4 col7\" >0.777208</td>\n",
       "                        <td id=\"T_85c2afd2_aa29_11ea_960e_6cc2177a96cdrow4_col8\" class=\"data row4 col8\" >0.937343</td>\n",
       "                        <td id=\"T_85c2afd2_aa29_11ea_960e_6cc2177a96cdrow4_col9\" class=\"data row4 col9\" >0.931949</td>\n",
       "            </tr>\n",
       "            <tr>\n",
       "                        <th id=\"T_85c2afd2_aa29_11ea_960e_6cc2177a96cdlevel0_row5\" class=\"row_heading level0 row5\" >NIFTY_50_AdjClose</th>\n",
       "                        <td id=\"T_85c2afd2_aa29_11ea_960e_6cc2177a96cdrow5_col0\" class=\"data row5 col0\" >0.828906</td>\n",
       "                        <td id=\"T_85c2afd2_aa29_11ea_960e_6cc2177a96cdrow5_col1\" class=\"data row5 col1\" >0.827732</td>\n",
       "                        <td id=\"T_85c2afd2_aa29_11ea_960e_6cc2177a96cdrow5_col2\" class=\"data row5 col2\" >0.969755</td>\n",
       "                        <td id=\"T_85c2afd2_aa29_11ea_960e_6cc2177a96cdrow5_col3\" class=\"data row5 col3\" >0.938133</td>\n",
       "                        <td id=\"T_85c2afd2_aa29_11ea_960e_6cc2177a96cdrow5_col4\" class=\"data row5 col4\" >0.938025</td>\n",
       "                        <td id=\"T_85c2afd2_aa29_11ea_960e_6cc2177a96cdrow5_col5\" class=\"data row5 col5\" >1</td>\n",
       "                        <td id=\"T_85c2afd2_aa29_11ea_960e_6cc2177a96cdrow5_col6\" class=\"data row5 col6\" >0.999749</td>\n",
       "                        <td id=\"T_85c2afd2_aa29_11ea_960e_6cc2177a96cdrow5_col7\" class=\"data row5 col7\" >0.867669</td>\n",
       "                        <td id=\"T_85c2afd2_aa29_11ea_960e_6cc2177a96cdrow5_col8\" class=\"data row5 col8\" >0.902261</td>\n",
       "                        <td id=\"T_85c2afd2_aa29_11ea_960e_6cc2177a96cdrow5_col9\" class=\"data row5 col9\" >0.889848</td>\n",
       "            </tr>\n",
       "            <tr>\n",
       "                        <th id=\"T_85c2afd2_aa29_11ea_960e_6cc2177a96cdlevel0_row6\" class=\"row_heading level0 row6\" >NIFTY_50_Open</th>\n",
       "                        <td id=\"T_85c2afd2_aa29_11ea_960e_6cc2177a96cdrow6_col0\" class=\"data row6 col0\" >0.828294</td>\n",
       "                        <td id=\"T_85c2afd2_aa29_11ea_960e_6cc2177a96cdrow6_col1\" class=\"data row6 col1\" >0.827904</td>\n",
       "                        <td id=\"T_85c2afd2_aa29_11ea_960e_6cc2177a96cdrow6_col2\" class=\"data row6 col2\" >0.969745</td>\n",
       "                        <td id=\"T_85c2afd2_aa29_11ea_960e_6cc2177a96cdrow6_col3\" class=\"data row6 col3\" >0.938037</td>\n",
       "                        <td id=\"T_85c2afd2_aa29_11ea_960e_6cc2177a96cdrow6_col4\" class=\"data row6 col4\" >0.938168</td>\n",
       "                        <td id=\"T_85c2afd2_aa29_11ea_960e_6cc2177a96cdrow6_col5\" class=\"data row6 col5\" >0.999749</td>\n",
       "                        <td id=\"T_85c2afd2_aa29_11ea_960e_6cc2177a96cdrow6_col6\" class=\"data row6 col6\" >1</td>\n",
       "                        <td id=\"T_85c2afd2_aa29_11ea_960e_6cc2177a96cdrow6_col7\" class=\"data row6 col7\" >0.867346</td>\n",
       "                        <td id=\"T_85c2afd2_aa29_11ea_960e_6cc2177a96cdrow6_col8\" class=\"data row6 col8\" >0.902418</td>\n",
       "                        <td id=\"T_85c2afd2_aa29_11ea_960e_6cc2177a96cdrow6_col9\" class=\"data row6 col9\" >0.890198</td>\n",
       "            </tr>\n",
       "            <tr>\n",
       "                        <th id=\"T_85c2afd2_aa29_11ea_960e_6cc2177a96cdlevel0_row7\" class=\"row_heading level0 row7\" >es_train_AdjClose</th>\n",
       "                        <td id=\"T_85c2afd2_aa29_11ea_960e_6cc2177a96cdrow7_col0\" class=\"data row7 col0\" >0.816526</td>\n",
       "                        <td id=\"T_85c2afd2_aa29_11ea_960e_6cc2177a96cdrow7_col1\" class=\"data row7 col1\" >0.815238</td>\n",
       "                        <td id=\"T_85c2afd2_aa29_11ea_960e_6cc2177a96cdrow7_col2\" class=\"data row7 col2\" >0.873364</td>\n",
       "                        <td id=\"T_85c2afd2_aa29_11ea_960e_6cc2177a96cdrow7_col3\" class=\"data row7 col3\" >0.777464</td>\n",
       "                        <td id=\"T_85c2afd2_aa29_11ea_960e_6cc2177a96cdrow7_col4\" class=\"data row7 col4\" >0.777208</td>\n",
       "                        <td id=\"T_85c2afd2_aa29_11ea_960e_6cc2177a96cdrow7_col5\" class=\"data row7 col5\" >0.867669</td>\n",
       "                        <td id=\"T_85c2afd2_aa29_11ea_960e_6cc2177a96cdrow7_col6\" class=\"data row7 col6\" >0.867346</td>\n",
       "                        <td id=\"T_85c2afd2_aa29_11ea_960e_6cc2177a96cdrow7_col7\" class=\"data row7 col7\" >1</td>\n",
       "                        <td id=\"T_85c2afd2_aa29_11ea_960e_6cc2177a96cdrow7_col8\" class=\"data row7 col8\" >0.794969</td>\n",
       "                        <td id=\"T_85c2afd2_aa29_11ea_960e_6cc2177a96cdrow7_col9\" class=\"data row7 col9\" >0.780966</td>\n",
       "            </tr>\n",
       "            <tr>\n",
       "                        <th id=\"T_85c2afd2_aa29_11ea_960e_6cc2177a96cdlevel0_row8\" class=\"row_heading level0 row8\" >CTSH_AdjClose</th>\n",
       "                        <td id=\"T_85c2afd2_aa29_11ea_960e_6cc2177a96cdrow8_col0\" class=\"data row8 col0\" >0.792845</td>\n",
       "                        <td id=\"T_85c2afd2_aa29_11ea_960e_6cc2177a96cdrow8_col1\" class=\"data row8 col1\" >0.793237</td>\n",
       "                        <td id=\"T_85c2afd2_aa29_11ea_960e_6cc2177a96cdrow8_col2\" class=\"data row8 col2\" >0.881439</td>\n",
       "                        <td id=\"T_85c2afd2_aa29_11ea_960e_6cc2177a96cdrow8_col3\" class=\"data row8 col3\" >0.936942</td>\n",
       "                        <td id=\"T_85c2afd2_aa29_11ea_960e_6cc2177a96cdrow8_col4\" class=\"data row8 col4\" >0.937343</td>\n",
       "                        <td id=\"T_85c2afd2_aa29_11ea_960e_6cc2177a96cdrow8_col5\" class=\"data row8 col5\" >0.902261</td>\n",
       "                        <td id=\"T_85c2afd2_aa29_11ea_960e_6cc2177a96cdrow8_col6\" class=\"data row8 col6\" >0.902418</td>\n",
       "                        <td id=\"T_85c2afd2_aa29_11ea_960e_6cc2177a96cdrow8_col7\" class=\"data row8 col7\" >0.794969</td>\n",
       "                        <td id=\"T_85c2afd2_aa29_11ea_960e_6cc2177a96cdrow8_col8\" class=\"data row8 col8\" >1</td>\n",
       "                        <td id=\"T_85c2afd2_aa29_11ea_960e_6cc2177a96cdrow8_col9\" class=\"data row8 col9\" >0.998648</td>\n",
       "            </tr>\n",
       "            <tr>\n",
       "                        <th id=\"T_85c2afd2_aa29_11ea_960e_6cc2177a96cdlevel0_row9\" class=\"row_heading level0 row9\" >CTSH_Open</th>\n",
       "                        <td id=\"T_85c2afd2_aa29_11ea_960e_6cc2177a96cdrow9_col0\" class=\"data row9 col0\" >0.785052</td>\n",
       "                        <td id=\"T_85c2afd2_aa29_11ea_960e_6cc2177a96cdrow9_col1\" class=\"data row9 col1\" >0.785977</td>\n",
       "                        <td id=\"T_85c2afd2_aa29_11ea_960e_6cc2177a96cdrow9_col2\" class=\"data row9 col2\" >0.865821</td>\n",
       "                        <td id=\"T_85c2afd2_aa29_11ea_960e_6cc2177a96cdrow9_col3\" class=\"data row9 col3\" >0.931432</td>\n",
       "                        <td id=\"T_85c2afd2_aa29_11ea_960e_6cc2177a96cdrow9_col4\" class=\"data row9 col4\" >0.931949</td>\n",
       "                        <td id=\"T_85c2afd2_aa29_11ea_960e_6cc2177a96cdrow9_col5\" class=\"data row9 col5\" >0.889848</td>\n",
       "                        <td id=\"T_85c2afd2_aa29_11ea_960e_6cc2177a96cdrow9_col6\" class=\"data row9 col6\" >0.890198</td>\n",
       "                        <td id=\"T_85c2afd2_aa29_11ea_960e_6cc2177a96cdrow9_col7\" class=\"data row9 col7\" >0.780966</td>\n",
       "                        <td id=\"T_85c2afd2_aa29_11ea_960e_6cc2177a96cdrow9_col8\" class=\"data row9 col8\" >0.998648</td>\n",
       "                        <td id=\"T_85c2afd2_aa29_11ea_960e_6cc2177a96cdrow9_col9\" class=\"data row9 col9\" >1</td>\n",
       "            </tr>\n",
       "    </tbody></table>"
      ],
      "text/plain": [
       "<pandas.io.formats.style.Styler at 0xa2c3167488>"
      ]
     },
     "execution_count": 30,
     "metadata": {},
     "output_type": "execute_result"
    }
   ],
   "source": [
    "# CORRELATION\n",
    "\n",
    "# escorts_df.corr().style.background_gradient(cmap=\"Reds\")\n",
    "# INFY_df.corr().style.background_gradient(cmap=\"Reds\")\n",
    "# ACN.corr().style.background_gradient(cmap=\"Reds\")\n",
    "CTSH.corr().style.background_gradient(cmap=\"Reds\")\n",
    "# ORCL.corr().style.background_gradient(cmap=\"Reds\")"
   ]
  },
  {
   "cell_type": "code",
   "execution_count": 31,
   "metadata": {},
   "outputs": [],
   "source": [
    "# now check outliers using z_score\n",
    "from scipy import stats\n",
    "z_scores = stats.zscore(INFY_df)\n",
    "# z_scores"
   ]
  },
  {
   "cell_type": "code",
   "execution_count": 32,
   "metadata": {},
   "outputs": [
    {
     "name": "stdout",
     "output_type": "stream",
     "text": [
      "(array([], dtype=int64), array([], dtype=int64))\n"
     ]
    }
   ],
   "source": [
    "print(np.where(np.abs(z_scores) > 3))"
   ]
  },
  {
   "cell_type": "code",
   "execution_count": 33,
   "metadata": {},
   "outputs": [],
   "source": [
    "abs_z_scores = np.abs(z_scores)\n",
    "filtered_entries = (abs_z_scores < 3).all(axis=1)\n",
    "INFY_df = INFY_df[filtered_entries]"
   ]
  },
  {
   "cell_type": "markdown",
   "metadata": {},
   "source": [
    "## *** Splitting columns *** "
   ]
  },
  {
   "cell_type": "code",
   "execution_count": 34,
   "metadata": {},
   "outputs": [],
   "source": [
    "# RELIANCE_df-63, Escorts-9, INFY- 0.03, WIPRO - 27,techm - 54,hcl-74 , ACN-2.4 ,CTSH=0.36, MINDTREE = 110,ORCL = 0.34"
   ]
  },
  {
   "cell_type": "code",
   "execution_count": 35,
   "metadata": {},
   "outputs": [],
   "source": [
    "X = INFY_df[INFY_df.columns[:-1]]\n",
    "Y = INFY_df[INFY_df.columns[-1]]\n",
    "\n",
    "train_x,test_x,train_y,test_y = train_test_split(X,Y, test_size=0.25, random_state=3)"
   ]
  },
  {
   "cell_type": "markdown",
   "metadata": {},
   "source": [
    "## Test semple data"
   ]
  },
  {
   "cell_type": "code",
   "execution_count": 36,
   "metadata": {},
   "outputs": [],
   "source": [
    "data1 = pd.read_csv(r'C:\\Users\\Shourya\\Desktop\\dataset\\ESCORTS dataset\\dataset\\HANG SENG_test.csv')\n",
    "data2 = pd.read_csv(r'C:\\Users\\Shourya\\Desktop\\dataset\\ESCORTS dataset\\dataset\\NIFTY 50_test.csv')\n",
    "data3 = pd.read_csv(r'C:\\Users\\Shourya\\Desktop\\dataset\\ESCORTS dataset\\dataset\\NASDAQ_test.csv')\n",
    "data4 = pd.read_csv(r'C:\\Users\\Shourya\\Desktop\\dataset\\ESCORTS dataset\\dataset\\Nikkei 225_test.csv')\n",
    "data5 = pd.read_csv(r'C:\\Users\\Shourya\\Desktop\\dataset\\ESCORTS dataset\\dataset\\ESCORTS.NS_test.csv')\n",
    "data6 = pd.read_csv(r'C:\\Users\\Shourya\\Desktop\\dataset\\ESCORTS dataset\\dataset\\ORCL_test.csv')\n",
    "\n",
    "data1.dropna(axis=0,inplace=True)\n",
    "data4.dropna(axis=0,inplace=True)\n",
    "data5.dropna(axis=0,inplace=True)\n",
    "data2.dropna(axis=0,inplace=True)\n",
    "data3.dropna(axis=0,inplace=True)\n",
    "data6.dropna(axis=0,inplace=True)"
   ]
  },
  {
   "cell_type": "code",
   "execution_count": 37,
   "metadata": {},
   "outputs": [],
   "source": [
    "data1=data1.rename(columns={'AdjClose': 'Hang_Seng_AdjClose'})\n",
    "data1=data1.rename(columns={'Open': 'Hang_Seng_Open'})\n",
    "data3=data3.rename(columns={'AdjClose': 'NASDAQ_AdjClose'})\n",
    "data3=data3.rename(columns={'Open': 'NASDAQ_Open'})\n",
    "data4=data4.rename(columns={'AdjClose': 'Nikkei_225_AdjClose'})\n",
    "data4=data4.rename(columns={'Open': 'Nikkei_225_Open'})\n",
    "data2=data2.rename(columns={'AdjClose': 'NIFTY_50_AdjClose'})\n",
    "data2=data2.rename(columns={'Open': 'NIFTY_50_Open'})\n",
    "data5=data5.rename(columns={'AdjClose': 'es_train_AdjClose'})\n",
    "data5=data5.rename(columns={'Open': 'es_train_Open'})\n",
    "data6 = data6.rename(columns={'AdjClose': 'ORCL_AdjClose'})\n",
    "data6 = data6.rename(columns={'Open': 'ORCL_Open'})"
   ]
  },
  {
   "cell_type": "code",
   "execution_count": 38,
   "metadata": {},
   "outputs": [],
   "source": [
    "# # # splitting data\n",
    "data1 = data1[['Date','Hang_Seng_AdjClose','Hang_Seng_Open']]\n",
    "data3 = data3[['Date','NASDAQ_AdjClose']]\n",
    "data4 = data4[['Date','Nikkei_225_AdjClose','Nikkei_225_Open']]\n",
    "data2 = data2[['Date','NIFTY_50_AdjClose','NIFTY_50_Open']]\n",
    "data5 = data5[['Date','es_train_AdjClose']]\n",
    "data6 = data6[['Date','ORCL_AdjClose','ORCL_Open']]"
   ]
  },
  {
   "cell_type": "code",
   "execution_count": 39,
   "metadata": {},
   "outputs": [],
   "source": [
    "tb2 = pd.merge(data1,data3,how='inner',on='Date')\n",
    "tb2 = pd.merge(tb2,data4,how='inner',on='Date')\n",
    "tb2 = pd.merge(tb2,data2,how='inner',on='Date')\n",
    "tb2 = pd.merge(tb2,data5,how='inner',on='Date')\n",
    "tb2 = pd.merge(tb2,data6,how='inner',on='Date')"
   ]
  },
  {
   "cell_type": "code",
   "execution_count": 40,
   "metadata": {},
   "outputs": [],
   "source": [
    "# tb2.to_csv('tested_data.csv')"
   ]
  },
  {
   "cell_type": "code",
   "execution_count": 41,
   "metadata": {},
   "outputs": [],
   "source": [
    "X_test = tb2[tb2.columns[1:-1]]\n",
    "Y_test = tb2[tb2.columns[-1]]"
   ]
  },
  {
   "cell_type": "code",
   "execution_count": 42,
   "metadata": {},
   "outputs": [],
   "source": [
    "X_test = X_test.tail()\n",
    "Y_test = Y_test.tail()"
   ]
  },
  {
   "cell_type": "code",
   "execution_count": 43,
   "metadata": {},
   "outputs": [
    {
     "data": {
      "text/html": [
       "<div>\n",
       "<style scoped>\n",
       "    .dataframe tbody tr th:only-of-type {\n",
       "        vertical-align: middle;\n",
       "    }\n",
       "\n",
       "    .dataframe tbody tr th {\n",
       "        vertical-align: top;\n",
       "    }\n",
       "\n",
       "    .dataframe thead th {\n",
       "        text-align: right;\n",
       "    }\n",
       "</style>\n",
       "<table border=\"1\" class=\"dataframe\">\n",
       "  <thead>\n",
       "    <tr style=\"text-align: right;\">\n",
       "      <th></th>\n",
       "      <th>Hang_Seng_AdjClose</th>\n",
       "      <th>Hang_Seng_Open</th>\n",
       "      <th>NASDAQ_AdjClose</th>\n",
       "      <th>Nikkei_225_AdjClose</th>\n",
       "      <th>Nikkei_225_Open</th>\n",
       "      <th>NIFTY_50_AdjClose</th>\n",
       "      <th>NIFTY_50_Open</th>\n",
       "      <th>es_train_AdjClose</th>\n",
       "      <th>ORCL_AdjClose</th>\n",
       "    </tr>\n",
       "  </thead>\n",
       "  <tbody>\n",
       "    <tr>\n",
       "      <td>27</td>\n",
       "      <td>23732.51953</td>\n",
       "      <td>23792.24023</td>\n",
       "      <td>9552.049805</td>\n",
       "      <td>22062.39063</td>\n",
       "      <td>22175.51953</td>\n",
       "      <td>9826.150391</td>\n",
       "      <td>9880.849609</td>\n",
       "      <td>972.400024</td>\n",
       "      <td>53.060001</td>\n",
       "    </tr>\n",
       "    <tr>\n",
       "      <td>28</td>\n",
       "      <td>23995.93945</td>\n",
       "      <td>24303.56055</td>\n",
       "      <td>9608.379883</td>\n",
       "      <td>22325.60938</td>\n",
       "      <td>22649.00977</td>\n",
       "      <td>9979.099609</td>\n",
       "      <td>10108.299810</td>\n",
       "      <td>959.650024</td>\n",
       "      <td>53.279999</td>\n",
       "    </tr>\n",
       "    <tr>\n",
       "      <td>29</td>\n",
       "      <td>24325.61914</td>\n",
       "      <td>24643.83984</td>\n",
       "      <td>9682.910156</td>\n",
       "      <td>22613.75977</td>\n",
       "      <td>22885.14063</td>\n",
       "      <td>10061.549810</td>\n",
       "      <td>10054.250000</td>\n",
       "      <td>972.450012</td>\n",
       "      <td>53.490002</td>\n",
       "    </tr>\n",
       "    <tr>\n",
       "      <td>30</td>\n",
       "      <td>24366.30078</td>\n",
       "      <td>24388.17969</td>\n",
       "      <td>9615.809570</td>\n",
       "      <td>22695.74023</td>\n",
       "      <td>22613.08008</td>\n",
       "      <td>10029.099610</td>\n",
       "      <td>10093.799810</td>\n",
       "      <td>976.549988</td>\n",
       "      <td>52.849998</td>\n",
       "    </tr>\n",
       "    <tr>\n",
       "      <td>31</td>\n",
       "      <td>24770.41016</td>\n",
       "      <td>25018.05078</td>\n",
       "      <td>9814.080078</td>\n",
       "      <td>22863.73047</td>\n",
       "      <td>23121.98047</td>\n",
       "      <td>10142.150390</td>\n",
       "      <td>10326.750000</td>\n",
       "      <td>965.750000</td>\n",
       "      <td>53.980000</td>\n",
       "    </tr>\n",
       "  </tbody>\n",
       "</table>\n",
       "</div>"
      ],
      "text/plain": [
       "    Hang_Seng_AdjClose  Hang_Seng_Open  NASDAQ_AdjClose  Nikkei_225_AdjClose  \\\n",
       "27         23732.51953     23792.24023      9552.049805          22062.39063   \n",
       "28         23995.93945     24303.56055      9608.379883          22325.60938   \n",
       "29         24325.61914     24643.83984      9682.910156          22613.75977   \n",
       "30         24366.30078     24388.17969      9615.809570          22695.74023   \n",
       "31         24770.41016     25018.05078      9814.080078          22863.73047   \n",
       "\n",
       "    Nikkei_225_Open  NIFTY_50_AdjClose  NIFTY_50_Open  es_train_AdjClose  \\\n",
       "27      22175.51953        9826.150391    9880.849609         972.400024   \n",
       "28      22649.00977        9979.099609   10108.299810         959.650024   \n",
       "29      22885.14063       10061.549810   10054.250000         972.450012   \n",
       "30      22613.08008       10029.099610   10093.799810         976.549988   \n",
       "31      23121.98047       10142.150390   10326.750000         965.750000   \n",
       "\n",
       "    ORCL_AdjClose  \n",
       "27      53.060001  \n",
       "28      53.279999  \n",
       "29      53.490002  \n",
       "30      52.849998  \n",
       "31      53.980000  "
      ]
     },
     "execution_count": 43,
     "metadata": {},
     "output_type": "execute_result"
    }
   ],
   "source": [
    "X_test"
   ]
  },
  {
   "cell_type": "markdown",
   "metadata": {},
   "source": [
    "# GradientBoostingRegressor"
   ]
  },
  {
   "cell_type": "code",
   "execution_count": 44,
   "metadata": {},
   "outputs": [],
   "source": [
    "# loss = ['ls']\n",
    "# learn_rates = [0.1]\n",
    "# subsample = [1.0]\n",
    "# criterion = ['mae']\n",
    "# max_features = ['auto']\n",
    "# alpha = [0.9]\n",
    "# max_depths = [20]\n",
    "# min_samples_leaf = [5]\n",
    "# min_samples_split = [20]\n",
    "# n_estimators = [200]\n",
    "# tol = [0.0001]\n",
    "\n",
    "# param_grid = {'loss': loss,\n",
    "#               'subsample':subsample,\n",
    "#               'criterion':criterion,\n",
    "#               'max_features':max_features,\n",
    "#               'alpha':alpha,\n",
    "#               'tol': tol,\n",
    "#               'n_estimators': n_estimators,\n",
    "#               'learning_rate': learn_rates,\n",
    "#               'max_depth': max_depths,\n",
    "#               'min_samples_leaf': min_samples_leaf,\n",
    "#               'min_samples_split': min_samples_split}\n",
    "# gbr_model = GridSearchCV(GradientBoostingRegressor(loss='huber'),param_grid, cv=4, return_train_score=True)"
   ]
  },
  {
   "cell_type": "code",
   "execution_count": 45,
   "metadata": {},
   "outputs": [],
   "source": [
    "# gbr_model.fit(train_x,train_y)"
   ]
  },
  {
   "cell_type": "code",
   "execution_count": 46,
   "metadata": {},
   "outputs": [],
   "source": [
    "# gbr_prdction=gbr_model.predict(test_x)\n",
    "# mean_squared_error(test_y,gbr_prdction,squared=True)"
   ]
  },
  {
   "cell_type": "code",
   "execution_count": 47,
   "metadata": {},
   "outputs": [],
   "source": [
    "# from joblib import dump, load\n",
    "# gbr =  load('C:/Users/Shourya/ds/gbr.joblib')\n",
    "# # dump(gbr_model,'gbr.joblib') "
   ]
  },
  {
   "cell_type": "code",
   "execution_count": 48,
   "metadata": {},
   "outputs": [],
   "source": [
    "# compare_data1 = Y_test.copy()\n",
    "# compare_data1 = pd.DataFrame(compare_data1)"
   ]
  },
  {
   "cell_type": "code",
   "execution_count": 49,
   "metadata": {},
   "outputs": [],
   "source": [
    "# compare_data1['Gradient_Boosting'] = gbr_prdction\n"
   ]
  },
  {
   "cell_type": "code",
   "execution_count": 50,
   "metadata": {
    "scrolled": true
   },
   "outputs": [],
   "source": [
    "# compare_data1"
   ]
  },
  {
   "cell_type": "markdown",
   "metadata": {},
   "source": [
    "# Linear regression "
   ]
  },
  {
   "cell_type": "code",
   "execution_count": 51,
   "metadata": {},
   "outputs": [],
   "source": [
    "parameters = {'fit_intercept':['True'], \n",
    "              'normalize':['True'], \n",
    "              'copy_X':['True'],\n",
    "              'n_jobs': [1]}\n",
    "\n",
    "lr = LinearRegression()              \n",
    "lr_model = GridSearchCV(lr, parameters)"
   ]
  },
  {
   "cell_type": "code",
   "execution_count": 52,
   "metadata": {},
   "outputs": [
    {
     "name": "stdout",
     "output_type": "stream",
     "text": [
      "{'copy_X': 'True', 'fit_intercept': 'True', 'n_jobs': 1, 'normalize': 'True'}\n"
     ]
    }
   ],
   "source": [
    "lr_model.fit(train_x,train_y)\n",
    "print(lr_model.best_params_)"
   ]
  },
  {
   "cell_type": "code",
   "execution_count": null,
   "metadata": {},
   "outputs": [],
   "source": []
  },
  {
   "cell_type": "code",
   "execution_count": null,
   "metadata": {},
   "outputs": [],
   "source": []
  },
  {
   "cell_type": "code",
   "execution_count": 53,
   "metadata": {},
   "outputs": [
    {
     "data": {
      "text/plain": [
       "0.45777978302767075"
      ]
     },
     "execution_count": 53,
     "metadata": {},
     "output_type": "execute_result"
    }
   ],
   "source": [
    "lr_prd=lr_model.predict(X_test)\n",
    "mean_squared_error(Y_test,lr_prd,squared=True)"
   ]
  },
  {
   "cell_type": "code",
   "execution_count": 54,
   "metadata": {},
   "outputs": [],
   "source": [
    "# from joblib import dump, load\n",
    "# dump(lr_model,'INFY.joblib')"
   ]
  },
  {
   "cell_type": "code",
   "execution_count": 55,
   "metadata": {},
   "outputs": [],
   "source": [
    "Y_test = pd.DataFrame(Y_test)\n",
    "compare_data2 = Y_test\n",
    "compare_data2['ORCL_Predicted'] = lr_prd"
   ]
  },
  {
   "cell_type": "code",
   "execution_count": 56,
   "metadata": {},
   "outputs": [
    {
     "data": {
      "text/html": [
       "<div>\n",
       "<style scoped>\n",
       "    .dataframe tbody tr th:only-of-type {\n",
       "        vertical-align: middle;\n",
       "    }\n",
       "\n",
       "    .dataframe tbody tr th {\n",
       "        vertical-align: top;\n",
       "    }\n",
       "\n",
       "    .dataframe thead th {\n",
       "        text-align: right;\n",
       "    }\n",
       "</style>\n",
       "<table border=\"1\" class=\"dataframe\">\n",
       "  <thead>\n",
       "    <tr style=\"text-align: right;\">\n",
       "      <th></th>\n",
       "      <th>ORCL_Actual</th>\n",
       "      <th>ORCL_Predicted</th>\n",
       "    </tr>\n",
       "  </thead>\n",
       "  <tbody>\n",
       "    <tr>\n",
       "      <td>27</td>\n",
       "      <td>53.240002</td>\n",
       "      <td>52.326680</td>\n",
       "    </tr>\n",
       "    <tr>\n",
       "      <td>28</td>\n",
       "      <td>53.330002</td>\n",
       "      <td>52.687967</td>\n",
       "    </tr>\n",
       "    <tr>\n",
       "      <td>29</td>\n",
       "      <td>53.230000</td>\n",
       "      <td>52.741531</td>\n",
       "    </tr>\n",
       "    <tr>\n",
       "      <td>30</td>\n",
       "      <td>53.090000</td>\n",
       "      <td>52.195022</td>\n",
       "    </tr>\n",
       "    <tr>\n",
       "      <td>31</td>\n",
       "      <td>53.349998</td>\n",
       "      <td>53.404275</td>\n",
       "    </tr>\n",
       "  </tbody>\n",
       "</table>\n",
       "</div>"
      ],
      "text/plain": [
       "    ORCL_Actual  ORCL_Predicted\n",
       "27    53.240002       52.326680\n",
       "28    53.330002       52.687967\n",
       "29    53.230000       52.741531\n",
       "30    53.090000       52.195022\n",
       "31    53.349998       53.404275"
      ]
     },
     "execution_count": 56,
     "metadata": {},
     "output_type": "execute_result"
    }
   ],
   "source": [
    "compare_data2 = compare_data2.rename(columns={'ORCL_Open': 'ORCL_Actual'})\n",
    "compare_data2"
   ]
  },
  {
   "cell_type": "code",
   "execution_count": 57,
   "metadata": {},
   "outputs": [],
   "source": [
    "# from sklearn.metrics import r2_score\n",
    "# lr_prd=lr_model.predict(test_x)\n",
    "# rmse1 = sqrt(mean_squared_error(test_y,lr_prd,squared=True))\n",
    "# print(rmse1)\n",
    "\n",
    "# f = np.sqrt(((lr_prd - test_y) ** 2).mean())\n",
    "# print(f)\n",
    "# r2= r2_score(test_y,lr_prd)\n",
    "# print(r2)"
   ]
  },
  {
   "cell_type": "code",
   "execution_count": 58,
   "metadata": {},
   "outputs": [],
   "source": [
    "# from joblib import dump, load\n",
    "# # dump(lr_model, 'pdd.joblib')\n",
    "# appstock = load('pdd.joblib')\n"
   ]
  },
  {
   "cell_type": "markdown",
   "metadata": {},
   "source": [
    "# AdaBoost Regression"
   ]
  },
  {
   "cell_type": "code",
   "execution_count": 59,
   "metadata": {},
   "outputs": [],
   "source": [
    "# from sklearn.ensemble import AdaBoostRegressor"
   ]
  },
  {
   "cell_type": "code",
   "execution_count": 60,
   "metadata": {},
   "outputs": [],
   "source": [
    "# params_grid = {'learning_rate':[1.0],\n",
    "#                 'n_estimators': [1000],\n",
    "#                 'loss' : ['square']}"
   ]
  },
  {
   "cell_type": "code",
   "execution_count": 61,
   "metadata": {},
   "outputs": [],
   "source": [
    "# AdaB = GridSearchCV(AdaBoostRegressor(),param_grid=params_grid)"
   ]
  },
  {
   "cell_type": "code",
   "execution_count": 62,
   "metadata": {
    "scrolled": true
   },
   "outputs": [],
   "source": [
    "# AdaB.fit(train_x,train_y)"
   ]
  },
  {
   "cell_type": "code",
   "execution_count": 63,
   "metadata": {},
   "outputs": [],
   "source": [
    "# AdaB.best_params_"
   ]
  },
  {
   "cell_type": "code",
   "execution_count": 64,
   "metadata": {},
   "outputs": [],
   "source": [
    "# dump(AdaB,'AdaB.joblib')\n",
    "# AdaB =load('C:/Users/Shourya/ds/AdaB.joblib')\n"
   ]
  },
  {
   "cell_type": "code",
   "execution_count": 65,
   "metadata": {},
   "outputs": [],
   "source": [
    "# AdaB_prd = AdaB.predict(test_x)\n",
    "# mean_squared_error(test_y,AdaB_prd,squared=True)"
   ]
  },
  {
   "cell_type": "code",
   "execution_count": 66,
   "metadata": {},
   "outputs": [],
   "source": [
    "# compare_data1['AdaBoost Regression'] = AdaB_prd"
   ]
  },
  {
   "cell_type": "markdown",
   "metadata": {},
   "source": [
    "# SVR"
   ]
  },
  {
   "cell_type": "code",
   "execution_count": 67,
   "metadata": {},
   "outputs": [],
   "source": [
    "# from sklearn.svm import SVR\n",
    "# scorer = make_scorer(mean_squared_error, greater_is_better=False)\n",
    "# param_grid = [{'kernel': ['rbf'], 'gamma': [1e-4, 1e-3, 0.01, 0.1, 0.2, 0.5, 0.6, 0.9],'C': [1, 10, 100, 1000, 10000]}]\n",
    "\n",
    "\n",
    "# svr_gs = GridSearchCV(SVR(epsilon = 0.01),param_grid=param_grid, cv = 5, scoring=scorer)"
   ]
  },
  {
   "cell_type": "code",
   "execution_count": 68,
   "metadata": {},
   "outputs": [],
   "source": [
    "# # svr_model = SVR(svr_gs)\n",
    "# svr_gs.fit(X,Y)"
   ]
  },
  {
   "cell_type": "code",
   "execution_count": 69,
   "metadata": {},
   "outputs": [],
   "source": [
    "# svr_prd=svr_gs.predict(X_test)\n",
    "# mean_squared_error(Y_test,svr_prd,squared=True)"
   ]
  },
  {
   "cell_type": "code",
   "execution_count": 70,
   "metadata": {},
   "outputs": [],
   "source": [
    "# compare_data1['SVR'] = svr_prd"
   ]
  },
  {
   "cell_type": "code",
   "execution_count": 71,
   "metadata": {},
   "outputs": [],
   "source": [
    "# compare_data1=compare_data1.rename(columns={'es_train_Open': 'Actual_Price'})"
   ]
  },
  {
   "cell_type": "code",
   "execution_count": 72,
   "metadata": {},
   "outputs": [],
   "source": [
    "# compare_data1"
   ]
  }
 ],
 "metadata": {
  "kernelspec": {
   "display_name": "Python 3",
   "language": "python",
   "name": "python3"
  },
  "language_info": {
   "codemirror_mode": {
    "name": "ipython",
    "version": 3
   },
   "file_extension": ".py",
   "mimetype": "text/x-python",
   "name": "python",
   "nbconvert_exporter": "python",
   "pygments_lexer": "ipython3",
   "version": "3.7.4"
  }
 },
 "nbformat": 4,
 "nbformat_minor": 4
}
